{
 "cells": [
  {
   "cell_type": "code",
   "execution_count": 2,
   "metadata": {},
   "outputs": [
    {
     "name": "stderr",
     "output_type": "stream",
     "text": [
      "Intel(R) Data Analytics Acceleration Library (Intel(R) DAAL) solvers for sklearn enabled: https://intelpython.github.io/daal4py/sklearn.html\n"
     ]
    }
   ],
   "source": [
    "%matplotlib inline\n",
    "import numpy as np\n",
    "from sklearn import datasets\n",
    "import matplotlib.pyplot as plt\n",
    "from sklearn.model_selection import train_test_split\n",
    "from sklearn.metrics import accuracy_score, precision_score, recall_score, confusion_matrix, classification_report\n",
    "\n",
    "import torch.nn as nn\n",
    "import torch.optim as optim\n",
    "from torch import Tensor\n",
    "import torch\n",
    "\n",
    "class Object(object): pass"
   ]
  },
  {
   "cell_type": "markdown",
   "metadata": {},
   "source": [
    "# Intro to Pytorch"
   ]
  },
  {
   "cell_type": "code",
   "execution_count": 12,
   "metadata": {},
   "outputs": [
    {
     "data": {
      "text/plain": [
       "tensor([[-1.5239, -1.3059, -0.4481],\n",
       "        [-0.5844, -0.6378, -2.6085]])"
      ]
     },
     "execution_count": 12,
     "metadata": {},
     "output_type": "execute_result"
    }
   ],
   "source": [
    "t = torch.Tensor(np.array([1, 2, 3, 3, 3, 5]))\n",
    "t = torch.Tensor(np.random.randn(2, 3))\n",
    "t"
   ]
  },
  {
   "cell_type": "code",
   "execution_count": 13,
   "metadata": {},
   "outputs": [
    {
     "data": {
      "text/plain": [
       "torch.return_types.max(\n",
       "values=tensor([-0.4481, -0.5844]),\n",
       "indices=tensor([2, 0]))"
      ]
     },
     "execution_count": 13,
     "metadata": {},
     "output_type": "execute_result"
    }
   ],
   "source": [
    "torch.max(t, dim=1)"
   ]
  },
  {
   "cell_type": "code",
   "execution_count": null,
   "metadata": {},
   "outputs": [],
   "source": [
    "t[1:7]"
   ]
  },
  {
   "cell_type": "markdown",
   "metadata": {},
   "source": [
    "Softmax normalizes a vector of K numbers into a probability distribution proportional to the exponents - a categorical distribution, i.e. a distribution over K possible outcomes."
   ]
  },
  {
   "cell_type": "code",
   "execution_count": 22,
   "metadata": {},
   "outputs": [
    {
     "data": {
      "text/plain": [
       "tensor([0.0259, 0.8580, 0.1161])"
      ]
     },
     "execution_count": 22,
     "metadata": {},
     "output_type": "execute_result"
    }
   ],
   "source": [
    "torch.softmax(Tensor([-1, 2.5, 0.5]), dim=0)"
   ]
  },
  {
   "cell_type": "markdown",
   "metadata": {},
   "source": [
    "# MNIST with Pytorch"
   ]
  },
  {
   "cell_type": "code",
   "execution_count": 3,
   "metadata": {},
   "outputs": [
    {
     "name": "stderr",
     "output_type": "stream",
     "text": [
      "/Users/kalininalex/miniconda3/envs/py36/lib/python3.6/site-packages/sklearn/utils/deprecation.py:85: DeprecationWarning: Function fetch_mldata is deprecated; fetch_mldata was deprecated in version 0.20 and will be removed in version 0.22. Please use fetch_openml.\n",
      "  warnings.warn(msg, category=DeprecationWarning)\n",
      "/Users/kalininalex/miniconda3/envs/py36/lib/python3.6/site-packages/sklearn/utils/deprecation.py:85: DeprecationWarning: Function mldata_filename is deprecated; mldata_filename was deprecated in version 0.20 and will be removed in version 0.22. Please use fetch_openml.\n",
      "  warnings.warn(msg, category=DeprecationWarning)\n"
     ]
    }
   ],
   "source": [
    "t_mnist = Object()\n",
    "t_mnist.RAND_STATE = 12\n",
    "t_mnist.raw = datasets.fetch_mldata(\"MNIST original\")\n",
    "t_mnist.X = t_mnist.raw.data.reshape(-1, 28, 28).astype(np.float32)\n",
    "t_mnist.y = t_mnist.raw.target.astype(np.long)"
   ]
  },
  {
   "cell_type": "code",
   "execution_count": 4,
   "metadata": {},
   "outputs": [],
   "source": [
    "def print_image(x, y, n=None):\n",
    "    if n is None:\n",
    "        n = np.random.randint(x.shape[0])\n",
    "    print(y[n])\n",
    "    _ = plt.imshow(x[n], cmap=\"gray\")"
   ]
  },
  {
   "cell_type": "code",
   "execution_count": 5,
   "metadata": {},
   "outputs": [
    {
     "name": "stdout",
     "output_type": "stream",
     "text": [
      "4\n"
     ]
    },
    {
     "data": {
      "image/png": "[encoded data removed]",
      "text/plain": [
       "<Figure size 432x288 with 1 Axes>"
      ]
     },
     "metadata": {},
     "output_type": "display_data"
    }
   ],
   "source": [
    "print_image(t_mnist.X, t_mnist.y)"
   ]
  },
  {
   "cell_type": "markdown",
   "metadata": {},
   "source": [
    "<img src=\"mnist.png\" alt=\"\" style=\"width: 60%\"/>"
   ]
  },
  {
   "cell_type": "code",
   "execution_count": 6,
   "metadata": {},
   "outputs": [],
   "source": [
    "t_mnist.X_train, t_mnist.X_test, t_mnist.y_train, t_mnist.y_test = \\\n",
    "    train_test_split(t_mnist.X, t_mnist.y, test_size=0.2, stratify=t_mnist.y, \n",
    "                     random_state=t_mnist.RAND_STATE)"
   ]
  },
  {
   "cell_type": "code",
   "execution_count": 7,
   "metadata": {},
   "outputs": [
    {
     "data": {
      "text/plain": [
       "((56000, 28, 28), (14000, 28, 28), (56000,), (14000,))"
      ]
     },
     "execution_count": 7,
     "metadata": {},
     "output_type": "execute_result"
    }
   ],
   "source": [
    "t_mnist.X_train.shape, t_mnist.X_test.shape, t_mnist.y_train.shape, t_mnist.y_test.shape"
   ]
  },
  {
   "cell_type": "markdown",
   "metadata": {},
   "source": [
    "## Softmax"
   ]
  },
  {
   "cell_type": "code",
   "execution_count": 8,
   "metadata": {},
   "outputs": [
    {
     "data": {
      "text/plain": [
       "tensor([0.0259, 0.8580, 0.1161])"
      ]
     },
     "execution_count": 8,
     "metadata": {},
     "output_type": "execute_result"
    }
   ],
   "source": [
    "torch.softmax(Tensor([-1, 2.5, 0.5]), 0)"
   ]
  },
  {
   "cell_type": "code",
   "execution_count": 9,
   "metadata": {},
   "outputs": [],
   "source": [
    "t_mnist.loss = nn.NLLLoss"
   ]
  },
  {
   "cell_type": "markdown",
   "metadata": {},
   "source": [
    "## Convert data"
   ]
  },
  {
   "cell_type": "code",
   "execution_count": 10,
   "metadata": {},
   "outputs": [],
   "source": [
    "? nn.Conv2d"
   ]
  },
  {
   "cell_type": "code",
   "execution_count": 11,
   "metadata": {},
   "outputs": [
    {
     "data": {
      "text/plain": [
       "(56000, 28, 28)"
      ]
     },
     "execution_count": 11,
     "metadata": {},
     "output_type": "execute_result"
    }
   ],
   "source": [
    "t_mnist.X_train.shape"
   ]
  },
  {
   "cell_type": "code",
   "execution_count": 12,
   "metadata": {},
   "outputs": [],
   "source": [
    "t_mnist.X_train_ch = np.expand_dims(t_mnist.X_train, axis=1)"
   ]
  },
  {
   "cell_type": "code",
   "execution_count": 13,
   "metadata": {},
   "outputs": [
    {
     "data": {
      "text/plain": [
       "<matplotlib.image.AxesImage at 0x2a4f5fd128>"
      ]
     },
     "execution_count": 13,
     "metadata": {},
     "output_type": "execute_result"
    },
    {
     "data": {
      "image/png": "[encoded data removed]",
      "text/plain": [
       "<Figure size 432x288 with 1 Axes>"
      ]
     },
     "metadata": {},
     "output_type": "display_data"
    }
   ],
   "source": [
    "plt.imshow(t_mnist.X_train[44354], cmap=\"gray\")"
   ]
  },
  {
   "cell_type": "code",
   "execution_count": 14,
   "metadata": {},
   "outputs": [
    {
     "data": {
      "text/plain": [
       "<matplotlib.image.AxesImage at 0x2a4f1f4ac8>"
      ]
     },
     "execution_count": 14,
     "metadata": {},
     "output_type": "execute_result"
    },
    {
     "data": {
      "image/png": "[encoded data removed]",
      "text/plain": [
       "<Figure size 432x288 with 1 Axes>"
      ]
     },
     "metadata": {},
     "output_type": "display_data"
    }
   ],
   "source": [
    "plt.imshow(t_mnist.X_train_ch[44354][0], cmap=\"gray\")"
   ]
  },
  {
   "cell_type": "code",
   "execution_count": 15,
   "metadata": {},
   "outputs": [],
   "source": [
    "t_mnist.X_train_t = torch.from_numpy(np.expand_dims(t_mnist.X_train, axis=1))\n",
    "t_mnist.X_test_t = torch.from_numpy(np.expand_dims(t_mnist.X_test, axis=1))\n",
    "t_mnist.y_train_t = torch.from_numpy(t_mnist.y_train)\n",
    "t_mnist.y_test_t = torch.from_numpy(t_mnist.y_test)"
   ]
  },
  {
   "cell_type": "code",
   "execution_count": 16,
   "metadata": {},
   "outputs": [
    {
     "data": {
      "text/plain": [
       "tensor([2, 8, 7,  ..., 3, 2, 1])"
      ]
     },
     "execution_count": 16,
     "metadata": {},
     "output_type": "execute_result"
    }
   ],
   "source": [
    "t_mnist.y_train_t"
   ]
  },
  {
   "cell_type": "code",
   "execution_count": 17,
   "metadata": {},
   "outputs": [
    {
     "data": {
      "text/plain": [
       "torch.Size([56000, 1, 28, 28])"
      ]
     },
     "execution_count": 17,
     "metadata": {},
     "output_type": "execute_result"
    }
   ],
   "source": [
    "t_mnist.X_train_t.shape"
   ]
  },
  {
   "cell_type": "markdown",
   "metadata": {},
   "source": [
    "## Training!\n",
    "\n",
    "## Explain gradient and training\n",
    "\n",
    "1. Loss function is a function.\n",
    "1. Forward pass.\n",
    "1. Calculate output -> error.\n",
    "1. Gradient of a loss function gives how we should update weights."
   ]
  },
  {
   "cell_type": "code",
   "execution_count": 18,
   "metadata": {},
   "outputs": [],
   "source": [
    "def accuracy(y_pred_one_hot, y_true):\n",
    "    y_pred = y_pred_one_hot.max(dim=1)[1]\n",
    "    return (y_pred == y_true).sum().item() / y_true.shape[0]"
   ]
  },
  {
   "cell_type": "markdown",
   "metadata": {},
   "source": [
    "## Batches"
   ]
  },
  {
   "cell_type": "markdown",
   "metadata": {},
   "source": [
    "# LetNet"
   ]
  },
  {
   "cell_type": "code",
   "execution_count": 19,
   "metadata": {},
   "outputs": [],
   "source": [
    "def create_lenet_classic_2():\n",
    "    return nn.Sequential(\n",
    "        #28x28x1\n",
    "        nn.Conv2d(1, 12, kernel_size=9, stride=1, padding=4),\n",
    "        nn.ReLU(),\n",
    "        #28x28x12\n",
    "        nn.MaxPool2d(kernel_size=(2,2), stride=2, padding=0),\n",
    "        #14x14x12\n",
    "        nn.Conv2d(12, 24, kernel_size=(7,7), stride=1, padding=2),\n",
    "        nn.ReLU(),\n",
    "        #12x12x24\n",
    "        nn.MaxPool2d(kernel_size=(2,2), stride=2, padding=0),\n",
    "        #6x6x24\n",
    "        nn.Flatten(),\n",
    "        nn.Linear(6*6*24, 100),\n",
    "        nn.ReLU(),\n",
    "        nn.Linear(100, 10),\n",
    "        nn.LogSoftmax(dim=-1)\n",
    "    )"
   ]
  },
  {
   "cell_type": "code",
   "execution_count": 123,
   "metadata": {},
   "outputs": [],
   "source": [
    "def create_lenet_classic():\n",
    "    return nn.Sequential(\n",
    "        #28x28x1\n",
    "        nn.Conv2d(1, 6, kernel_size=9, stride=1, padding=4),\n",
    "        nn.ReLU(),\n",
    "        #28x28x6\n",
    "        nn.MaxPool2d(kernel_size=(2,2), stride=2, padding=0),\n",
    "        #14x14x6\n",
    "        nn.Conv2d(6, 16, kernel_size=(7,7), stride=1, padding=3),\n",
    "        nn.ReLU(),\n",
    "        #14x14x16\n",
    "        nn.MaxPool2d(kernel_size=(2,2), stride=2, padding=0),\n",
    "        #7x7x16\n",
    "        nn.Flatten(),\n",
    "        nn.Linear(7*7*16, 100),\n",
    "        nn.ReLU(),\n",
    "        nn.Linear(100, 10),\n",
    "        nn.LogSoftmax(dim=-1)\n",
    "    )"
   ]
  },
  {
   "cell_type": "code",
   "execution_count": 124,
   "metadata": {},
   "outputs": [],
   "source": [
    "# ? nn.Conv2d"
   ]
  },
  {
   "cell_type": "code",
   "execution_count": 125,
   "metadata": {},
   "outputs": [],
   "source": [
    "t_mnist.learning_rate = 1e-4\n",
    "t_mnist.loss = nn.NLLLoss()\n",
    "t_mnist.optim = torch.optim.SGD(t_mnist.nn.parameters(), lr=t_mnist.learning_rate)"
   ]
  },
  {
   "cell_type": "code",
   "execution_count": 126,
   "metadata": {},
   "outputs": [],
   "source": [
    "def train_batch(net, data, epochs=3):\n",
    "    optim = torch.optim.SGD(net.parameters(), 1e-4, momentum=0.9)\n",
    "\n",
    "    batch_size = 16\n",
    "    batches = int(data.X_train_t.shape[0] / batch_size)\n",
    "    \n",
    "    for i in range(epochs):\n",
    "        for b in range(batches):\n",
    "            start = b * batch_size\n",
    "            end = start + batch_size\n",
    "#             print(start, end)\n",
    "            x_batch = data.X_train_t[start : end]\n",
    "            y_batch = data.y_train_t[start : end]\n",
    "        \n",
    "             # Forward pass: compute predicted y by passing x to the model.\n",
    "#             print(x_batch.shape)\n",
    "            y_pred = net(x_batch)\n",
    "\n",
    "            # Compute and print loss.\n",
    "            loss = data.loss(y_pred, y_batch)\n",
    "\n",
    "            # Reset gradient\n",
    "            net.zero_grad()\n",
    "\n",
    "            # Backward pass: compute gradient of the loss with respect to model\n",
    "            # parameters\n",
    "            loss.backward()\n",
    "\n",
    "            # Calling the step function on an Optimizer makes an update to its\n",
    "            # parameters\n",
    "            optim.step()\n",
    "\n",
    "        if True: # i % 1 == 1:\n",
    "            print(i, \"Loss:\", loss.item())\n",
    "            print(i, \"Test accuracy: \", accuracy(net(data.X_test_t), data.y_test_t))"
   ]
  },
  {
   "cell_type": "code",
   "execution_count": 127,
   "metadata": {},
   "outputs": [
    {
     "name": "stdout",
     "output_type": "stream",
     "text": [
      "0 Loss: 0.04985995963215828\n",
      "0 Test accuracy:  0.9708571428571429\n",
      "CPU times: user 1min 59s, sys: 4.05 s, total: 2min 3s\n",
      "Wall time: 45.2 s\n"
     ]
    }
   ],
   "source": [
    "%%time\n",
    "t_mnist.nn = create_lenet_classic()\n",
    "train_batch(t_mnist.nn, t_mnist, epochs=1)"
   ]
  },
  {
   "cell_type": "markdown",
   "metadata": {},
   "source": [
    "Test the accuracy on a shifted image:"
   ]
  },
  {
   "cell_type": "code",
   "execution_count": 128,
   "metadata": {},
   "outputs": [
    {
     "data": {
      "text/plain": [
       "0.9708571428571429"
      ]
     },
     "execution_count": 128,
     "metadata": {},
     "output_type": "execute_result"
    }
   ],
   "source": [
    "accuracy(t_mnist.nn(t_mnist.X_test_t), t_mnist.y_test_t)"
   ]
  },
  {
   "cell_type": "markdown",
   "metadata": {},
   "source": [
    "# Predict a Single Image"
   ]
  },
  {
   "cell_type": "code",
   "execution_count": 129,
   "metadata": {},
   "outputs": [
    {
     "data": {
      "text/plain": [
       "(28, 28)"
      ]
     },
     "execution_count": 129,
     "metadata": {},
     "output_type": "execute_result"
    }
   ],
   "source": [
    "t_mnist.test_n = 2625\n",
    "t_mnist.X_test[t_mnist.test_n].shape"
   ]
  },
  {
   "cell_type": "code",
   "execution_count": 131,
   "metadata": {},
   "outputs": [
    {
     "data": {
      "text/plain": [
       "<matplotlib.image.AxesImage at 0x2a61fa24e0>"
      ]
     },
     "execution_count": 131,
     "metadata": {},
     "output_type": "execute_result"
    },
    {
     "data": {
      "image/png": "[encoded data removed]",
      "text/plain": [
       "<Figure size 432x288 with 1 Axes>"
      ]
     },
     "metadata": {},
     "output_type": "display_data"
    }
   ],
   "source": [
    "plt.imshow(t_mnist.X_test[t_mnist.test_n], cmap=\"gray\")"
   ]
  },
  {
   "cell_type": "code",
   "execution_count": 132,
   "metadata": {},
   "outputs": [
    {
     "data": {
      "text/plain": [
       "(1, 1, 28, 28)"
      ]
     },
     "execution_count": 132,
     "metadata": {},
     "output_type": "execute_result"
    }
   ],
   "source": [
    "t_mnist.test_image = np.expand_dims(np.expand_dims(t_mnist.X_test[t_mnist.test_n], axis=0), axis=0)\n",
    "t_mnist.test_image.shape"
   ]
  },
  {
   "cell_type": "code",
   "execution_count": 133,
   "metadata": {},
   "outputs": [],
   "source": [
    "t_mnist.test_image_t = torch.from_numpy(t_mnist.test_image)"
   ]
  },
  {
   "cell_type": "code",
   "execution_count": 134,
   "metadata": {},
   "outputs": [
    {
     "data": {
      "text/plain": [
       "tensor([[-8.7922e+00, -8.1618e+00, -7.0739e+00, -1.0664e+01, -4.7954e-03,\n",
       "         -1.4796e+01, -1.0095e+01, -7.3700e+00, -7.7367e+00, -6.0456e+00]],\n",
       "       grad_fn=<LogSoftmaxBackward>)"
      ]
     },
     "execution_count": 134,
     "metadata": {},
     "output_type": "execute_result"
    }
   ],
   "source": [
    "logits = t_mnist.nn(t_mnist.test_image_t)\n",
    "logits"
   ]
  },
  {
   "cell_type": "code",
   "execution_count": 135,
   "metadata": {},
   "outputs": [
    {
     "data": {
      "text/plain": [
       "tensor([[1.5191e-04, 2.8534e-04, 8.4694e-04, 2.3376e-05, 9.9522e-01, 3.7520e-07,\n",
       "         4.1304e-05, 6.2989e-04, 4.3650e-04, 2.3683e-03]],\n",
       "       grad_fn=<ExpBackward>)"
      ]
     },
     "execution_count": 135,
     "metadata": {},
     "output_type": "execute_result"
    }
   ],
   "source": [
    "torch.exp(logits)"
   ]
  },
  {
   "cell_type": "code",
   "execution_count": 136,
   "metadata": {},
   "outputs": [
    {
     "data": {
      "text/plain": [
       "tensor(4)"
      ]
     },
     "execution_count": 136,
     "metadata": {},
     "output_type": "execute_result"
    }
   ],
   "source": [
    "torch.argmax(torch.exp(logits[0]))"
   ]
  },
  {
   "cell_type": "code",
   "execution_count": 137,
   "metadata": {},
   "outputs": [],
   "source": [
    "def predict_image(net, x, y, n=None):\n",
    "    if n is None:\n",
    "        n = np.random.randint(x.shape[0])\n",
    "    image = np.expand_dims(np.expand_dims(x[n], axis=0), axis=0).astype(np.float32)\n",
    "    image_t = torch.from_numpy(image)\n",
    "    pred_t = net(image_t)\n",
    "    pred = torch.argmax(torch.exp(pred_t[0])).item()\n",
    "    print(n, ':', y[n], ' : ',  pred)\n",
    "    plt.imshow(x[n], cmap=\"gray\")"
   ]
  },
  {
   "cell_type": "code",
   "execution_count": 180,
   "metadata": {},
   "outputs": [
    {
     "name": "stdout",
     "output_type": "stream",
     "text": [
      "11194 : 7  :  7\n"
     ]
    },
    {
     "data": {
      "image/png": "[encoded data removed]",
      "text/plain": [
       "<Figure size 432x288 with 1 Axes>"
      ]
     },
     "metadata": {},
     "output_type": "display_data"
    }
   ],
   "source": [
    "predict_image(t_mnist.nn, t_mnist.X_test, t_mnist.y_test)"
   ]
  },
  {
   "cell_type": "code",
   "execution_count": 181,
   "metadata": {},
   "outputs": [],
   "source": [
    "def find_wrong_image(net, x, y):\n",
    "    while True:\n",
    "        n = np.random.randint(x.shape[0])\n",
    "        image = np.expand_dims(np.expand_dims(x[n], axis=0), axis=0).astype(np.float32)\n",
    "        image_t = torch.from_numpy(image)\n",
    "        pred_t = net(image_t)\n",
    "        pred = torch.argmax(torch.exp(pred_t[0])).item()\n",
    "        if pred != y[n]:\n",
    "            print(n, ':', y[n], ' : ',  pred)\n",
    "            plt.imshow(x[n], cmap=\"gray\")\n",
    "            break"
   ]
  },
  {
   "cell_type": "code",
   "execution_count": 187,
   "metadata": {},
   "outputs": [
    {
     "name": "stdout",
     "output_type": "stream",
     "text": [
      "11488 : 2  :  6\n"
     ]
    },
    {
     "data": {
      "image/png": "[encoded data removed]",
      "text/plain": [
       "<Figure size 432x288 with 1 Axes>"
      ]
     },
     "metadata": {},
     "output_type": "display_data"
    }
   ],
   "source": [
    "find_wrong_image(t_mnist.nn, t_mnist.X_test, t_mnist.y_test)"
   ]
  },
  {
   "cell_type": "markdown",
   "metadata": {},
   "source": [
    "# Predict own image"
   ]
  },
  {
   "cell_type": "code",
   "execution_count": 188,
   "metadata": {},
   "outputs": [],
   "source": [
    "from PIL import Image"
   ]
  },
  {
   "cell_type": "code",
   "execution_count": 189,
   "metadata": {},
   "outputs": [],
   "source": [
    "digit = np.array(Image.open('images/digit.png')).astype(np.float32)"
   ]
  },
  {
   "cell_type": "code",
   "execution_count": 190,
   "metadata": {},
   "outputs": [],
   "source": [
    "digit = digit[:,:,0]"
   ]
  },
  {
   "cell_type": "code",
   "execution_count": 191,
   "metadata": {},
   "outputs": [
    {
     "data": {
      "text/plain": [
       "(28, 28)"
      ]
     },
     "execution_count": 191,
     "metadata": {},
     "output_type": "execute_result"
    }
   ],
   "source": [
    "digit.shape"
   ]
  },
  {
   "cell_type": "code",
   "execution_count": 192,
   "metadata": {},
   "outputs": [
    {
     "name": "stdout",
     "output_type": "stream",
     "text": [
      "0 : 3  :  3\n"
     ]
    },
    {
     "data": {
      "image/png": "[encoded data removed]",
      "text/plain": [
       "<Figure size 432x288 with 1 Axes>"
      ]
     },
     "metadata": {},
     "output_type": "display_data"
    }
   ],
   "source": [
    "predict_image(t_mnist.nn, [digit], [3], n=0)"
   ]
  },
  {
   "cell_type": "markdown",
   "metadata": {},
   "source": [
    "# Redis AI"
   ]
  },
  {
   "cell_type": "markdown",
   "metadata": {},
   "source": [
    "1. docker run -p 6379:6379 -it --rm redisai/redisai /bin/bash\n",
    "1. /usr/local/bin//redis-server --loadmodule /usr/lib/redis/modules/redisai.so &\n",
    "1. redis-cli\n",
    "1. AI.CONFIG LOADBACKEND TORCH redisai_torch/redisai_torch.so \n",
    "\n",
    "\n",
    "* https://oss.redislabs.com/redisai/commands/\n",
    "* https://oss.redislabs.com/redisai/\n",
    "\n",
    "Use Redisai.py to upload the model to Redis."
   ]
  },
  {
   "cell_type": "code",
   "execution_count": 193,
   "metadata": {},
   "outputs": [],
   "source": [
    "import ml2rt"
   ]
  },
  {
   "cell_type": "code",
   "execution_count": 194,
   "metadata": {},
   "outputs": [],
   "source": [
    "t_mnist.nn.eval()\n",
    "t_mnist.nn_script = torch.jit.trace(t_mnist.nn, t_mnist.X_test_t)"
   ]
  },
  {
   "cell_type": "markdown",
   "metadata": {},
   "source": [
    "We can use TorchScript model just like any other PyTorch model:"
   ]
  },
  {
   "cell_type": "code",
   "execution_count": 195,
   "metadata": {},
   "outputs": [
    {
     "name": "stdout",
     "output_type": "stream",
     "text": [
      "0 : 3  :  3\n"
     ]
    },
    {
     "data": {
      "image/png": "[encoded data removed]",
      "text/plain": [
       "<Figure size 432x288 with 1 Axes>"
      ]
     },
     "metadata": {},
     "output_type": "display_data"
    }
   ],
   "source": [
    "predict_image(t_mnist.nn_script, [digit], [3], n=0)"
   ]
  },
  {
   "cell_type": "markdown",
   "metadata": {},
   "source": [
    "Save the TorchScript model:"
   ]
  },
  {
   "cell_type": "code",
   "execution_count": 196,
   "metadata": {},
   "outputs": [],
   "source": [
    "t_mnist.nn_script.eval()  # Important?\n",
    "t_mnist.nn_script.save('lenet.pt')\n",
    "t_mnist.loaded_nn_script = torch.jit.load('lenet.pt')"
   ]
  },
  {
   "cell_type": "code",
   "execution_count": 197,
   "metadata": {},
   "outputs": [
    {
     "name": "stderr",
     "output_type": "stream",
     "text": [
      "/Users/kalininalex/miniconda3/envs/py36/lib/python3.6/site-packages/ml2rt/exporter.py:44: UserWarning: Graph is in training mode. Converting to evaluation mode\n",
      "  'Graph is in training mode. Converting to evaluation mode')\n"
     ]
    }
   ],
   "source": [
    "ml2rt.save_torch(t_mnist.nn_script, 'model.pt')\n",
    "t_mnist.loaded_nn = ml2rt.load_model('model.pt')"
   ]
  },
  {
   "cell_type": "code",
   "execution_count": 198,
   "metadata": {},
   "outputs": [],
   "source": [
    "import redisai"
   ]
  },
  {
   "cell_type": "code",
   "execution_count": 199,
   "metadata": {},
   "outputs": [],
   "source": [
    "t_mnist.redis = redisai.Client()"
   ]
  },
  {
   "cell_type": "code",
   "execution_count": null,
   "metadata": {},
   "outputs": [],
   "source": [
    "t_mnist.redis.loadbackend('TORCH', 'redisai_torch/redisai_torch.so')"
   ]
  },
  {
   "cell_type": "code",
   "execution_count": 201,
   "metadata": {},
   "outputs": [
    {
     "data": {
      "text/plain": [
       "b'OK'"
      ]
     },
     "execution_count": 201,
     "metadata": {},
     "output_type": "execute_result"
    }
   ],
   "source": [
    "t_mnist.redis.modelset('lenet', redisai.Backend.torch, redisai.Device.cpu, t_mnist.loaded_nn)"
   ]
  },
  {
   "cell_type": "markdown",
   "metadata": {},
   "source": [
    "Send an image for recognition:"
   ]
  },
  {
   "cell_type": "code",
   "execution_count": 202,
   "metadata": {},
   "outputs": [
    {
     "data": {
      "text/plain": [
       "b'OK'"
      ]
     },
     "execution_count": 202,
     "metadata": {},
     "output_type": "execute_result"
    }
   ],
   "source": [
    "t_mnist.redis.tensorset('image', \n",
    "                        np.expand_dims(\n",
    "                            np.expand_dims(digit, axis=0), \n",
    "                            axis=0))"
   ]
  },
  {
   "cell_type": "code",
   "execution_count": 203,
   "metadata": {},
   "outputs": [
    {
     "data": {
      "text/plain": [
       "b'OK'"
      ]
     },
     "execution_count": 203,
     "metadata": {},
     "output_type": "execute_result"
    }
   ],
   "source": [
    "t_mnist.redis.modelrun('lenet', ['image'], ['pred'])"
   ]
  },
  {
   "cell_type": "code",
   "execution_count": 204,
   "metadata": {},
   "outputs": [
    {
     "data": {
      "text/plain": [
       "3"
      ]
     },
     "execution_count": 204,
     "metadata": {},
     "output_type": "execute_result"
    }
   ],
   "source": [
    "np.argmax(np.exp(t_mnist.redis.tensorget('pred')))"
   ]
  },
  {
   "cell_type": "markdown",
   "metadata": {},
   "source": [
    "Write a function that submits a digit for prediction:"
   ]
  },
  {
   "cell_type": "code",
   "execution_count": 205,
   "metadata": {},
   "outputs": [],
   "source": [
    "def predict_redis(client, x, y, n=None):\n",
    "    assert isinstance(client, redisai.Client)\n",
    "    if n is None:\n",
    "        n = np.random.randint(x.shape[0])\n",
    "    image = x[n]\n",
    "    image = np.expand_dims(image, axis=0)\n",
    "    image = np.expand_dims(image, axis=0)\n",
    "    client.tensorset('image', image)\n",
    "    client.modelrun('lenet', ['image'], ['pred'])\n",
    "    pred = client.tensorget('pred')\n",
    "    pred = np.argmax(pred)\n",
    "    print(\"Pred: \", pred, \"actual:\", y[n])\n",
    "    plt.imshow(x[n], cmap=\"gray\")"
   ]
  },
  {
   "cell_type": "code",
   "execution_count": 209,
   "metadata": {},
   "outputs": [
    {
     "name": "stdout",
     "output_type": "stream",
     "text": [
      "Pred:  9 actual: 9\n"
     ]
    },
    {
     "data": {
      "image/png": "[encoded data removed]",
      "text/plain": [
       "<Figure size 432x288 with 1 Axes>"
      ]
     },
     "metadata": {},
     "output_type": "display_data"
    }
   ],
   "source": [
    "predict_redis(t_mnist.redis, t_mnist.X_test, t_mnist.y_test)"
   ]
  },
  {
   "cell_type": "code",
   "execution_count": null,
   "metadata": {},
   "outputs": [],
   "source": []
  }
 ],
 "metadata": {
  "kernelspec": {
   "display_name": "Python 3",
   "language": "python",
   "name": "python3"
  },
  "language_info": {
   "codemirror_mode": {
    "name": "ipython",
    "version": 3
   },
   "file_extension": ".py",
   "mimetype": "text/x-python",
   "name": "python",
   "nbconvert_exporter": "python",
   "pygments_lexer": "ipython3",
   "version": "3.6.6"
  },
  "varInspector": {
   "cols": {
    "lenName": 16,
    "lenType": 16,
    "lenVar": 40
   },
   "kernels_config": {
    "python": {
     "delete_cmd_postfix": "",
     "delete_cmd_prefix": "del ",
     "library": "var_list.py",
     "varRefreshCmd": "print(var_dic_list())"
    },
    "r": {
     "delete_cmd_postfix": ") ",
     "delete_cmd_prefix": "rm(",
     "library": "var_list.r",
     "varRefreshCmd": "cat(var_dic_list()) "
    }
   },
   "oldHeight": 320,
   "position": {
    "height": "342px",
    "left": "996px",
    "right": "20px",
    "top": "120px",
    "width": "350px"
   },
   "types_to_exclude": [
    "module",
    "function",
    "builtin_function_or_method",
    "instance",
    "_Feature"
   ],
   "varInspector_section_display": "block",
   "window_display": false
  }
 },
 "nbformat": 4,
 "nbformat_minor": 2
}
