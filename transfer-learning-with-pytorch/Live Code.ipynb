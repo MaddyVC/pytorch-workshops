{
 "cells": [
  {
   "cell_type": "code",
   "execution_count": 1,
   "metadata": {},
   "outputs": [],
   "source": [
    "import redisai\n",
    "import ml2rt\n",
    "from PIL import Image\n",
    "from torchvision import transforms\n",
    "import numpy as np\n",
    "\n",
    "class Object(object): pass"
   ]
  },
  {
   "cell_type": "code",
   "execution_count": 2,
   "metadata": {},
   "outputs": [],
   "source": [
    "tr = Object()\n",
    "tr.redis = redisai.Client()"
   ]
  },
  {
   "cell_type": "code",
   "execution_count": 3,
   "metadata": {},
   "outputs": [
    {
     "data": {
      "text/plain": [
       "b'OK'"
      ]
     },
     "execution_count": 3,
     "metadata": {},
     "output_type": "execute_result"
    }
   ],
   "source": [
    "tr.redis.loadbackend('TORCH', 'redisai_torch/redisai_torch.so')"
   ]
  },
  {
   "cell_type": "code",
   "execution_count": 5,
   "metadata": {},
   "outputs": [
    {
     "name": "stdout",
     "output_type": "stream",
     "text": [
      "1. PyTorch Transfer Learning - Fast.ipynb\r\n",
      "2. Deploy and Run PyTorch models with RedisAI.ipynb\r\n",
      "Live Code.ipynb\r\n",
      "model.pt\r\n"
     ]
    }
   ],
   "source": [
    "!ls"
   ]
  },
  {
   "cell_type": "code",
   "execution_count": 9,
   "metadata": {},
   "outputs": [
    {
     "ename": "AttributeError",
     "evalue": "'bytes' object has no attribute 'to'",
     "output_type": "error",
     "traceback": [
      "\u001b[0;31m---------------------------------------------------------------------------\u001b[0m",
      "\u001b[0;31mAttributeError\u001b[0m                            Traceback (most recent call last)",
      "\u001b[0;32m<ipython-input-9-43e81a29a2e1>\u001b[0m in \u001b[0;36m<module>\u001b[0;34m()\u001b[0m\n\u001b[0;32m----> 1\u001b[0;31m \u001b[0mtr\u001b[0m\u001b[0;34m.\u001b[0m\u001b[0mloaded_model\u001b[0m \u001b[0;34m=\u001b[0m \u001b[0mml2rt\u001b[0m\u001b[0;34m.\u001b[0m\u001b[0mload_model\u001b[0m\u001b[0;34m(\u001b[0m\u001b[0;34m'model.pt'\u001b[0m\u001b[0;34m)\u001b[0m\u001b[0;34m.\u001b[0m\u001b[0mto\u001b[0m\u001b[0;34m(\u001b[0m\u001b[0;34m\"cpu\"\u001b[0m\u001b[0;34m)\u001b[0m\u001b[0;34m\u001b[0m\u001b[0m\n\u001b[0m",
      "\u001b[0;31mAttributeError\u001b[0m: 'bytes' object has no attribute 'to'"
     ]
    }
   ],
   "source": [
    "tr.loaded_model = ml2rt.load_model('model.pt')"
   ]
  },
  {
   "cell_type": "code",
   "execution_count": 8,
   "metadata": {},
   "outputs": [
    {
     "ename": "ResponseError",
     "evalue": "Cannot initialize CUDA without ATen_cuda library. PyTorch splits its backend into two shared libraries: a CPU library and a CUDA library; this error has occurred because you are trying to use some CUDA functionality, but the CUDA library has not been loaded by the dynamic linker for some reason.  The CUDA library MUST be loaded, EVEN IF you don't directly use any symbols from the CUDA library! One common culprit is a lack of -Wl,--no-as-needed in your link arguments; many dynamic linkers will delete dynamic library dependencies if you don't depend on any of their symbols.  You can check if this has occurred by using ldd on your binary to see if there is a dependency on *_cuda.so library. (initCUDA at ../../aten/src/ATen/detail/CUDAHooksInterface.h:63) frame #0: c10::Error::Error(c10::SourceLocation, std::__cxx11::basic_string<char, std::char_traits<char>, std::allocator<char> > const&) + 0x6a (0x7fdfe6669c4a in /usr/lib/redis/modules/backends/redisai_torch/lib/libc10.so) frame #1: <unknown function> + 0xa2a2c9 (0x7fdfe72ae2c9 in /usr/lib/redis/modules/backends/redisai_torch/lib/libtorch.so) frame #2: void std::__once_call_impl<std::_Bind_simple<at::Context::lazyInitCUDA()::{lambda()#1} ()> >() + 0x39 (0x7fdfe726f369 in /usr/lib/redis/modules/backends/redisai_torch/lib/libtorch.so) frame #3: <unknown function> + 0xf997 (0x7fdff652d997 in /lib/x86_64-linux-gnu/libpthread.so.0) frame #4: <unknown function> + 0x9ec397 (0x7fdfe7270397 in /usr/lib/redis/modules/backends/redisai_torch/lib/libtorch.so) frame #5: <unknown function> + 0xf997 (0x7fdff652d997 in /lib/x86_64-linux-gnu/libpthread.so.0) frame #6: <unknown function> + 0xdaa8ed (0x7fdfe762e8ed in /usr/lib/redis/modules/backends/redisai_torch/lib/libtorch.so) frame #7: at::native::to(at::Tensor const&, c10::Device, c10::ScalarType, bool, bool) + 0x364 (0x7fdfe7630a14 in /usr/lib/redis/modules/backends/redisai_torch/lib/libtorch.so) frame #8: <unknown function> + 0x1122a75 (0x7fdfe79a6a75 in /usr/lib/redis/modules/backends/redisai_torch/lib/libtorch.so) frame #9: <unknown function> + 0x2fde16d (0x7fdfe986216d in /usr/lib/redis/modules/backends/redisai_torch/lib/libtorch.so) frame #10: <unknown function> + 0x2fe0330 (0x7fdfe9864330 in /usr/lib/redis/modules/backends/redisai_torch/lib/libtorch.so) frame #11: <unknown function> + 0x2fe087c (0x7fdfe986487c in /usr/lib/redis/modules/backends/redisai_torch/lib/libtorch.so) frame #12: <unknown function> + 0x3008186 (0x7fdfe988c186 in /usr/lib/redis/modules/backends/redisai_torch/lib/libtorch.so) frame #13: <unknown function> + 0x300ab45 (0x7fdfe988eb45 in /usr/lib/redis/modules/backends/redisai_torch/lib/libtorch.so) frame #14: torch::jit::load(std::unique_ptr<caffe2::serialize::ReadAdapterInterface, std::default_delete<caffe2::serialize::ReadAdapterInterface> >, c10::optional<c10::Device>, std::unordered_map<std::__cxx11::basic_string<char, std::char_traits<char>, std::allocator<char> >, std::__cxx11::basic_string<char, std::char_traits<char>, std::allocator<char> >, std::hash<std::__cxx11::basic_string<char, std::char_traits<char>, std::allocator<char> > >, std::equal_to<std::__cxx11::basic_string<char, std::char_traits<char>, std::allocator<char> > >, std::allocator<std::pair<std::__cxx11::basic_string<char, std::char_traits<char>, std::allocator<char> > const, std::__cxx11::basic_string<char, std::char_traits<char>, std::allocator<char> > > > >&) + 0x12c (0x7fdfe988f07c in /usr/lib/redis/modules/backends/redisai_torch/lib/libtorch.so) frame #15: torch::jit::load(std::istream&, c10::optional<c10::Device>, std::unordered_map<std::__cxx11::basic_string<char, std::char_traits<char>, std::allocator<char> >, std::__cxx11::basic_string<char, std::char_traits<char>, std::allocator<char> >, std::hash<std::__cxx11::basic_string<char, std::char_traits<char>, std::allocator<char> > >, std::equal_to<std::__cxx11::basic_string<char, std::char_traits<char>, std::allocator<char> > >, std::allocator<std::pair<std::__cxx11::basic_string<char, std::char_traits<char>, std::allocator<char> > const, std::__cxx11::basic_string<char, std::char_traits<char>, std::allocator<char> > > > >&) + 0x75 (0x7fdfe988f5a5 in /usr/lib/redis/modules/backends/redisai_torch/lib/libtorch.so) frame #16: torchLoadModel + 0x21b (0x7fdff6322d7b in /usr/lib/redis/modules/backends/redisai_torch/redisai_torch.so) frame #17: RAI_ModelCreateTorch + 0x9d (0x7fdff631ee5d in /usr/lib/redis/modules/backends/redisai_torch/redisai_torch.so) frame #18: RedisAI_ModelSet_RedisCommand + 0x262 (0x7fdff6343852 in /usr/lib/redis/modules/redisai.so) frame #19: RedisModuleCommandDispatcher + 0x54 (0x55f1ea474d14 in redis-server *:6379) frame #20: call + 0x9b (0x55f1ea40435b in redis-server *:6379) frame #21: processCommand + 0x51e (0x55f1ea404c1e in redis-server *:6379) frame #22: processInputBuffer + 0x171 (0x55f1ea414e61 in redis-server *:6379) frame #23: aeProcessEvents + 0x101 (0x55f1ea3fe311 in redis-server *:6379) frame #24: aeMain + 0x2b (0x55f1ea3fe71b in redis-server *:6379) frame #25: main + 0x4ca (0x55f1ea3fb57a in redis-server *:6379) frame #26: __libc_start_main + 0xeb (0x7fdff638109b in /lib/x86_64-linux-gnu/libc.so.6) frame #27: _start + 0x2a (0x55f1ea3fb7da in redis-server *:6379) ",
     "output_type": "error",
     "traceback": [
      "\u001b[0;31m---------------------------------------------------------------------------\u001b[0m",
      "\u001b[0;31mResponseError\u001b[0m                             Traceback (most recent call last)",
      "\u001b[0;32m<ipython-input-8-c8840e6d0eec>\u001b[0m in \u001b[0;36m<module>\u001b[0;34m()\u001b[0m\n\u001b[1;32m      3\u001b[0m     \u001b[0mredisai\u001b[0m\u001b[0;34m.\u001b[0m\u001b[0mBackend\u001b[0m\u001b[0;34m.\u001b[0m\u001b[0mtorch\u001b[0m\u001b[0;34m,\u001b[0m\u001b[0;34m\u001b[0m\u001b[0m\n\u001b[1;32m      4\u001b[0m     \u001b[0mredisai\u001b[0m\u001b[0;34m.\u001b[0m\u001b[0mDevice\u001b[0m\u001b[0;34m.\u001b[0m\u001b[0mcpu\u001b[0m\u001b[0;34m,\u001b[0m\u001b[0;34m\u001b[0m\u001b[0m\n\u001b[0;32m----> 5\u001b[0;31m     tr.loaded_model)\n\u001b[0m",
      "\u001b[0;32m/Users/kalininalex/miniconda3/envs/py36_test/lib/python3.6/site-packages/redisai/client.py\u001b[0m in \u001b[0;36mmodelset\u001b[0;34m(self, name, backend, device, data, inputs, outputs)\u001b[0m\n\u001b[1;32m     45\u001b[0m             \u001b[0margs\u001b[0m \u001b[0;34m+=\u001b[0m \u001b[0;34m[\u001b[0m\u001b[0;34m'OUTPUTS'\u001b[0m\u001b[0;34m]\u001b[0m \u001b[0;34m+\u001b[0m \u001b[0mstr_or_strsequence\u001b[0m\u001b[0;34m(\u001b[0m\u001b[0moutputs\u001b[0m\u001b[0;34m)\u001b[0m\u001b[0;34m\u001b[0m\u001b[0m\n\u001b[1;32m     46\u001b[0m         \u001b[0margs\u001b[0m \u001b[0;34m+=\u001b[0m \u001b[0;34m[\u001b[0m\u001b[0mdata\u001b[0m\u001b[0;34m]\u001b[0m\u001b[0;34m\u001b[0m\u001b[0m\n\u001b[0;32m---> 47\u001b[0;31m         \u001b[0;32mreturn\u001b[0m \u001b[0mself\u001b[0m\u001b[0;34m.\u001b[0m\u001b[0mexecute_command\u001b[0m\u001b[0;34m(\u001b[0m\u001b[0;34m*\u001b[0m\u001b[0margs\u001b[0m\u001b[0;34m)\u001b[0m\u001b[0;34m\u001b[0m\u001b[0m\n\u001b[0m\u001b[1;32m     48\u001b[0m \u001b[0;34m\u001b[0m\u001b[0m\n\u001b[1;32m     49\u001b[0m     \u001b[0;32mdef\u001b[0m \u001b[0mmodelget\u001b[0m\u001b[0;34m(\u001b[0m\u001b[0mself\u001b[0m\u001b[0;34m,\u001b[0m \u001b[0mname\u001b[0m\u001b[0;34m:\u001b[0m \u001b[0mAnyStr\u001b[0m\u001b[0;34m)\u001b[0m \u001b[0;34m->\u001b[0m \u001b[0mModel\u001b[0m\u001b[0;34m:\u001b[0m\u001b[0;34m\u001b[0m\u001b[0m\n",
      "\u001b[0;32m/Users/kalininalex/miniconda3/envs/py36_test/lib/python3.6/site-packages/redis/client.py\u001b[0m in \u001b[0;36mexecute_command\u001b[0;34m(self, *args, **options)\u001b[0m\n\u001b[1;32m    876\u001b[0m         \u001b[0;32mtry\u001b[0m\u001b[0;34m:\u001b[0m\u001b[0;34m\u001b[0m\u001b[0m\n\u001b[1;32m    877\u001b[0m             \u001b[0mconn\u001b[0m\u001b[0;34m.\u001b[0m\u001b[0msend_command\u001b[0m\u001b[0;34m(\u001b[0m\u001b[0;34m*\u001b[0m\u001b[0margs\u001b[0m\u001b[0;34m)\u001b[0m\u001b[0;34m\u001b[0m\u001b[0m\n\u001b[0;32m--> 878\u001b[0;31m             \u001b[0;32mreturn\u001b[0m \u001b[0mself\u001b[0m\u001b[0;34m.\u001b[0m\u001b[0mparse_response\u001b[0m\u001b[0;34m(\u001b[0m\u001b[0mconn\u001b[0m\u001b[0;34m,\u001b[0m \u001b[0mcommand_name\u001b[0m\u001b[0;34m,\u001b[0m \u001b[0;34m**\u001b[0m\u001b[0moptions\u001b[0m\u001b[0;34m)\u001b[0m\u001b[0;34m\u001b[0m\u001b[0m\n\u001b[0m\u001b[1;32m    879\u001b[0m         \u001b[0;32mexcept\u001b[0m \u001b[0;34m(\u001b[0m\u001b[0mConnectionError\u001b[0m\u001b[0;34m,\u001b[0m \u001b[0mTimeoutError\u001b[0m\u001b[0;34m)\u001b[0m \u001b[0;32mas\u001b[0m \u001b[0me\u001b[0m\u001b[0;34m:\u001b[0m\u001b[0;34m\u001b[0m\u001b[0m\n\u001b[1;32m    880\u001b[0m             \u001b[0mconn\u001b[0m\u001b[0;34m.\u001b[0m\u001b[0mdisconnect\u001b[0m\u001b[0;34m(\u001b[0m\u001b[0;34m)\u001b[0m\u001b[0;34m\u001b[0m\u001b[0m\n",
      "\u001b[0;32m/Users/kalininalex/miniconda3/envs/py36_test/lib/python3.6/site-packages/redis/client.py\u001b[0m in \u001b[0;36mparse_response\u001b[0;34m(self, connection, command_name, **options)\u001b[0m\n\u001b[1;32m    890\u001b[0m         \u001b[0;34m\"Parses a response from the Redis server\"\u001b[0m\u001b[0;34m\u001b[0m\u001b[0m\n\u001b[1;32m    891\u001b[0m         \u001b[0;32mtry\u001b[0m\u001b[0;34m:\u001b[0m\u001b[0;34m\u001b[0m\u001b[0m\n\u001b[0;32m--> 892\u001b[0;31m             \u001b[0mresponse\u001b[0m \u001b[0;34m=\u001b[0m \u001b[0mconnection\u001b[0m\u001b[0;34m.\u001b[0m\u001b[0mread_response\u001b[0m\u001b[0;34m(\u001b[0m\u001b[0;34m)\u001b[0m\u001b[0;34m\u001b[0m\u001b[0m\n\u001b[0m\u001b[1;32m    893\u001b[0m         \u001b[0;32mexcept\u001b[0m \u001b[0mResponseError\u001b[0m\u001b[0;34m:\u001b[0m\u001b[0;34m\u001b[0m\u001b[0m\n\u001b[1;32m    894\u001b[0m             \u001b[0;32mif\u001b[0m \u001b[0mEMPTY_RESPONSE\u001b[0m \u001b[0;32min\u001b[0m \u001b[0moptions\u001b[0m\u001b[0;34m:\u001b[0m\u001b[0;34m\u001b[0m\u001b[0m\n",
      "\u001b[0;32m/Users/kalininalex/miniconda3/envs/py36_test/lib/python3.6/site-packages/redis/connection.py\u001b[0m in \u001b[0;36mread_response\u001b[0;34m(self)\u001b[0m\n\u001b[1;32m    750\u001b[0m \u001b[0;34m\u001b[0m\u001b[0m\n\u001b[1;32m    751\u001b[0m         \u001b[0;32mif\u001b[0m \u001b[0misinstance\u001b[0m\u001b[0;34m(\u001b[0m\u001b[0mresponse\u001b[0m\u001b[0;34m,\u001b[0m \u001b[0mResponseError\u001b[0m\u001b[0;34m)\u001b[0m\u001b[0;34m:\u001b[0m\u001b[0;34m\u001b[0m\u001b[0m\n\u001b[0;32m--> 752\u001b[0;31m             \u001b[0;32mraise\u001b[0m \u001b[0mresponse\u001b[0m\u001b[0;34m\u001b[0m\u001b[0m\n\u001b[0m\u001b[1;32m    753\u001b[0m         \u001b[0;32mreturn\u001b[0m \u001b[0mresponse\u001b[0m\u001b[0;34m\u001b[0m\u001b[0m\n\u001b[1;32m    754\u001b[0m \u001b[0;34m\u001b[0m\u001b[0m\n",
      "\u001b[0;31mResponseError\u001b[0m: Cannot initialize CUDA without ATen_cuda library. PyTorch splits its backend into two shared libraries: a CPU library and a CUDA library; this error has occurred because you are trying to use some CUDA functionality, but the CUDA library has not been loaded by the dynamic linker for some reason.  The CUDA library MUST be loaded, EVEN IF you don't directly use any symbols from the CUDA library! One common culprit is a lack of -Wl,--no-as-needed in your link arguments; many dynamic linkers will delete dynamic library dependencies if you don't depend on any of their symbols.  You can check if this has occurred by using ldd on your binary to see if there is a dependency on *_cuda.so library. (initCUDA at ../../aten/src/ATen/detail/CUDAHooksInterface.h:63) frame #0: c10::Error::Error(c10::SourceLocation, std::__cxx11::basic_string<char, std::char_traits<char>, std::allocator<char> > const&) + 0x6a (0x7fdfe6669c4a in /usr/lib/redis/modules/backends/redisai_torch/lib/libc10.so) frame #1: <unknown function> + 0xa2a2c9 (0x7fdfe72ae2c9 in /usr/lib/redis/modules/backends/redisai_torch/lib/libtorch.so) frame #2: void std::__once_call_impl<std::_Bind_simple<at::Context::lazyInitCUDA()::{lambda()#1} ()> >() + 0x39 (0x7fdfe726f369 in /usr/lib/redis/modules/backends/redisai_torch/lib/libtorch.so) frame #3: <unknown function> + 0xf997 (0x7fdff652d997 in /lib/x86_64-linux-gnu/libpthread.so.0) frame #4: <unknown function> + 0x9ec397 (0x7fdfe7270397 in /usr/lib/redis/modules/backends/redisai_torch/lib/libtorch.so) frame #5: <unknown function> + 0xf997 (0x7fdff652d997 in /lib/x86_64-linux-gnu/libpthread.so.0) frame #6: <unknown function> + 0xdaa8ed (0x7fdfe762e8ed in /usr/lib/redis/modules/backends/redisai_torch/lib/libtorch.so) frame #7: at::native::to(at::Tensor const&, c10::Device, c10::ScalarType, bool, bool) + 0x364 (0x7fdfe7630a14 in /usr/lib/redis/modules/backends/redisai_torch/lib/libtorch.so) frame #8: <unknown function> + 0x1122a75 (0x7fdfe79a6a75 in /usr/lib/redis/modules/backends/redisai_torch/lib/libtorch.so) frame #9: <unknown function> + 0x2fde16d (0x7fdfe986216d in /usr/lib/redis/modules/backends/redisai_torch/lib/libtorch.so) frame #10: <unknown function> + 0x2fe0330 (0x7fdfe9864330 in /usr/lib/redis/modules/backends/redisai_torch/lib/libtorch.so) frame #11: <unknown function> + 0x2fe087c (0x7fdfe986487c in /usr/lib/redis/modules/backends/redisai_torch/lib/libtorch.so) frame #12: <unknown function> + 0x3008186 (0x7fdfe988c186 in /usr/lib/redis/modules/backends/redisai_torch/lib/libtorch.so) frame #13: <unknown function> + 0x300ab45 (0x7fdfe988eb45 in /usr/lib/redis/modules/backends/redisai_torch/lib/libtorch.so) frame #14: torch::jit::load(std::unique_ptr<caffe2::serialize::ReadAdapterInterface, std::default_delete<caffe2::serialize::ReadAdapterInterface> >, c10::optional<c10::Device>, std::unordered_map<std::__cxx11::basic_string<char, std::char_traits<char>, std::allocator<char> >, std::__cxx11::basic_string<char, std::char_traits<char>, std::allocator<char> >, std::hash<std::__cxx11::basic_string<char, std::char_traits<char>, std::allocator<char> > >, std::equal_to<std::__cxx11::basic_string<char, std::char_traits<char>, std::allocator<char> > >, std::allocator<std::pair<std::__cxx11::basic_string<char, std::char_traits<char>, std::allocator<char> > const, std::__cxx11::basic_string<char, std::char_traits<char>, std::allocator<char> > > > >&) + 0x12c (0x7fdfe988f07c in /usr/lib/redis/modules/backends/redisai_torch/lib/libtorch.so) frame #15: torch::jit::load(std::istream&, c10::optional<c10::Device>, std::unordered_map<std::__cxx11::basic_string<char, std::char_traits<char>, std::allocator<char> >, std::__cxx11::basic_string<char, std::char_traits<char>, std::allocator<char> >, std::hash<std::__cxx11::basic_string<char, std::char_traits<char>, std::allocator<char> > >, std::equal_to<std::__cxx11::basic_string<char, std::char_traits<char>, std::allocator<char> > >, std::allocator<std::pair<std::__cxx11::basic_string<char, std::char_traits<char>, std::allocator<char> > const, std::__cxx11::basic_string<char, std::char_traits<char>, std::allocator<char> > > > >&) + 0x75 (0x7fdfe988f5a5 in /usr/lib/redis/modules/backends/redisai_torch/lib/libtorch.so) frame #16: torchLoadModel + 0x21b (0x7fdff6322d7b in /usr/lib/redis/modules/backends/redisai_torch/redisai_torch.so) frame #17: RAI_ModelCreateTorch + 0x9d (0x7fdff631ee5d in /usr/lib/redis/modules/backends/redisai_torch/redisai_torch.so) frame #18: RedisAI_ModelSet_RedisCommand + 0x262 (0x7fdff6343852 in /usr/lib/redis/modules/redisai.so) frame #19: RedisModuleCommandDispatcher + 0x54 (0x55f1ea474d14 in redis-server *:6379) frame #20: call + 0x9b (0x55f1ea40435b in redis-server *:6379) frame #21: processCommand + 0x51e (0x55f1ea404c1e in redis-server *:6379) frame #22: processInputBuffer + 0x171 (0x55f1ea414e61 in redis-server *:6379) frame #23: aeProcessEvents + 0x101 (0x55f1ea3fe311 in redis-server *:6379) frame #24: aeMain + 0x2b (0x55f1ea3fe71b in redis-server *:6379) frame #25: main + 0x4ca (0x55f1ea3fb57a in redis-server *:6379) frame #26: __libc_start_main + 0xeb (0x7fdff638109b in /lib/x86_64-linux-gnu/libc.so.6) frame #27: _start + 0x2a (0x55f1ea3fb7da in redis-server *:6379) "
     ]
    }
   ],
   "source": [
    "tr.redis.modelset(\n",
    "    \"walk_or_run\", \n",
    "    redisai.Backend.torch,\n",
    "    redisai.Device.cpu,\n",
    "    tr.loaded_model)"
   ]
  },
  {
   "cell_type": "code",
   "execution_count": null,
   "metadata": {},
   "outputs": [],
   "source": []
  }
 ],
 "metadata": {
  "kernelspec": {
   "display_name": "Python 3",
   "language": "python",
   "name": "python3"
  },
  "language_info": {
   "codemirror_mode": {
    "name": "ipython",
    "version": 3
   },
   "file_extension": ".py",
   "mimetype": "text/x-python",
   "name": "python",
   "nbconvert_exporter": "python",
   "pygments_lexer": "ipython3",
   "version": "3.6.6"
  },
  "varInspector": {
   "cols": {
    "lenName": 16,
    "lenType": 16,
    "lenVar": 40
   },
   "kernels_config": {
    "python": {
     "delete_cmd_postfix": "",
     "delete_cmd_prefix": "del ",
     "library": "var_list.py",
     "varRefreshCmd": "print(var_dic_list())"
    },
    "r": {
     "delete_cmd_postfix": ") ",
     "delete_cmd_prefix": "rm(",
     "library": "var_list.r",
     "varRefreshCmd": "cat(var_dic_list()) "
    }
   },
   "types_to_exclude": [
    "module",
    "function",
    "builtin_function_or_method",
    "instance",
    "_Feature"
   ],
   "window_display": false
  }
 },
 "nbformat": 4,
 "nbformat_minor": 2
}
