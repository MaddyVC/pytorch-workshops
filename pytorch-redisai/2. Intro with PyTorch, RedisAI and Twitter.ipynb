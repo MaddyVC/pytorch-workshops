{
 "cells": [
  {
   "cell_type": "markdown",
   "metadata": {},
   "source": [
    "1. pip install python-twitter\n",
    "1. test images: https://pytorch.org/tutorials/beginner/transfer_learning_tutorial.html\n",
    "1. ImageNet Labels: https://gist.github.com/yrevar/942d3a0ac09ec9e5eb3a"
   ]
  },
  {
   "cell_type": "markdown",
   "metadata": {},
   "source": [
    "## Imports and Intro"
   ]
  },
  {
   "cell_type": "code",
   "execution_count": null,
   "metadata": {},
   "outputs": [],
   "source": [
    "import twitter\n",
    "import torch\n",
    "import torchvision\n",
    "import numpy as np\n",
    "\n",
    "class Object(object): pass"
   ]
  },
  {
   "cell_type": "markdown",
   "metadata": {},
   "source": [
    "## Load Model"
   ]
  },
  {
   "cell_type": "code",
   "execution_count": null,
   "metadata": {},
   "outputs": [],
   "source": [
    "t = Object()"
   ]
  },
  {
   "cell_type": "code",
   "execution_count": null,
   "metadata": {},
   "outputs": [],
   "source": [
    "t.model = torchvision.models.alexnet(pretrained=True)"
   ]
  },
  {
   "cell_type": "code",
   "execution_count": null,
   "metadata": {},
   "outputs": [],
   "source": [
    "# !ls ../input/ants-bees/train/ants/_ants.jpg"
   ]
  },
  {
   "cell_type": "markdown",
   "metadata": {},
   "source": [
    "## Convert Model"
   ]
  },
  {
   "cell_type": "markdown",
   "metadata": {},
   "source": [
    "Convert the model to TorchScript:\n",
    "1. Load an image\n",
    "2. Run jit.trace"
   ]
  },
  {
   "cell_type": "code",
   "execution_count": null,
   "metadata": {},
   "outputs": [],
   "source": [
    "torch.Tensor([1, 2, 3])"
   ]
  },
  {
   "cell_type": "code",
   "execution_count": null,
   "metadata": {},
   "outputs": [],
   "source": [
    "t.img_t = torch.rand(1, 3, 224, 224)"
   ]
  },
  {
   "cell_type": "code",
   "execution_count": null,
   "metadata": {},
   "outputs": [],
   "source": [
    "t.model.eval()\n",
    "t.nn_script = torch.jit.trace(t.model, t.img_t)"
   ]
  },
  {
   "cell_type": "code",
   "execution_count": null,
   "metadata": {},
   "outputs": [],
   "source": [
    "import ml2rt\n",
    "t.nn_script.eval()\n",
    "ml2rt.save_torch(t.nn_script, \"model.pt\")\n",
    "t.loaded_nn = ml2rt.load_model(\"model.pt\")"
   ]
  },
  {
   "cell_type": "markdown",
   "metadata": {},
   "source": [
    "Load model into RedisAI"
   ]
  },
  {
   "cell_type": "code",
   "execution_count": null,
   "metadata": {},
   "outputs": [],
   "source": [
    "import redisai"
   ]
  },
  {
   "cell_type": "code",
   "execution_count": null,
   "metadata": {},
   "outputs": [],
   "source": [
    "# !docker run -p 6379:6379 -it --rm redisai/redisai"
   ]
  },
  {
   "cell_type": "code",
   "execution_count": null,
   "metadata": {},
   "outputs": [],
   "source": [
    "t.redis = redisai.Client()\n",
    "try:\n",
    "    t.redis.loadbackend('TORCH', 'redisai_torch/redisai_torch.so')\n",
    "except:\n",
    "    pass"
   ]
  },
  {
   "cell_type": "code",
   "execution_count": null,
   "metadata": {},
   "outputs": [],
   "source": [
    "t.redis.modelset('resnet', \n",
    "                 redisai.Backend.torch, \n",
    "                 redisai.Device.cpu,\n",
    "                 t.loaded_nn)"
   ]
  },
  {
   "cell_type": "markdown",
   "metadata": {},
   "source": [
    "## Load Test Image\n",
    "\n",
    "test images: https://pytorch.org/tutorials/beginner/transfer_learning_tutorial.html"
   ]
  },
  {
   "cell_type": "code",
   "execution_count": null,
   "metadata": {},
   "outputs": [],
   "source": [
    "import PIL\n",
    "import ml2rt\n",
    "\n",
    "t.img = PIL.Image\\\n",
    "    .open(\"../input/ants-bees/train/ants/_ants.jpg\")\\\n",
    "    .convert(\"RGB\")\n",
    "t.transforms = torchvision.transforms.Compose([\n",
    "    torchvision.transforms.Resize(224),\n",
    "    torchvision.transforms.ToTensor(),\n",
    "    torchvision.transforms.Normalize(mean=[0.485, 0.456, 0.406],\n",
    "                                 std=[0.229, 0.224, 0.225])\n",
    "])\n",
    "t.img_t = t.transforms(t.img).unsqueeze(0)\n",
    "t.img_t.shape"
   ]
  },
  {
   "cell_type": "code",
   "execution_count": null,
   "metadata": {},
   "outputs": [],
   "source": [
    "t.img"
   ]
  },
  {
   "cell_type": "markdown",
   "metadata": {},
   "source": [
    "## Check Predictions"
   ]
  },
  {
   "cell_type": "code",
   "execution_count": null,
   "metadata": {},
   "outputs": [],
   "source": [
    "t.redis.tensorset('image', t.img_t.numpy())\n",
    "t.redis.modelrun('resnet', 'image', 'pred')\n",
    "t.pred = t.redis.tensorget('pred')[0]\n",
    "t.pred"
   ]
  },
  {
   "cell_type": "markdown",
   "metadata": {},
   "source": [
    "## Convert to probabilities"
   ]
  },
  {
   "cell_type": "code",
   "execution_count": null,
   "metadata": {},
   "outputs": [],
   "source": [
    "def softmax(p):\n",
    "    t = np.exp(p)\n",
    "    s = t.sum()\n",
    "    return t / s"
   ]
  },
  {
   "cell_type": "code",
   "execution_count": null,
   "metadata": {},
   "outputs": [],
   "source": [
    "t.proba = softmax(t.pred)"
   ]
  },
  {
   "cell_type": "code",
   "execution_count": null,
   "metadata": {},
   "outputs": [],
   "source": [
    "def get_top_5(preds):\n",
    "    preds = preds.copy()\n",
    "    result = np.zeros(5).astype(np.int32)\n",
    "    for i in range(result.shape[0]):\n",
    "        max_ind = preds.argmax()\n",
    "        result[i] = int(max_ind)\n",
    "        preds[max_ind] = -1\n",
    "    return result"
   ]
  },
  {
   "cell_type": "code",
   "execution_count": null,
   "metadata": {},
   "outputs": [],
   "source": [
    "t.top5 = get_top_5(t.proba)\n",
    "t.top5"
   ]
  },
  {
   "cell_type": "code",
   "execution_count": null,
   "metadata": {},
   "outputs": [],
   "source": [
    "import ast, requests \n",
    "\n",
    "t.labels = ast.literal_eval(\n",
    "    requests.get('https://gist.githubusercontent.com/yrevar/942d3a0ac09ec9e5eb3a/raw/238f720ff059c1f82f368259d1ca4ffa5dd8f9f5/imagenet1000_clsidx_to_labels.txt').text\n",
    ")"
   ]
  },
  {
   "cell_type": "code",
   "execution_count": null,
   "metadata": {},
   "outputs": [],
   "source": [
    "for i in get_top_5(t.proba):\n",
    "    print(t.labels[i], t.proba[i])"
   ]
  },
  {
   "cell_type": "markdown",
   "metadata": {},
   "source": [
    "## Add Twitter Loop\n",
    "\n",
    "https://developer.twitter.com/apps"
   ]
  },
  {
   "cell_type": "code",
   "execution_count": null,
   "metadata": {},
   "outputs": [],
   "source": [
    "import os\n",
    "\n",
    "t.api = twitter.Api(\n",
    "    consumer_key=os.environ['TWITTER_CONSUMER_KEY'],\n",
    "    consumer_secret=os.environ['TWITTER_CONSUMER_SECRET'],\n",
    "    access_token_key=os.environ['TWITTER_TOKEN_KEY'],\n",
    "    access_token_secret=os.environ['TWITTER_TOKEN_SECRET'])"
   ]
  },
  {
   "cell_type": "code",
   "execution_count": null,
   "metadata": {},
   "outputs": [],
   "source": [
    "# print(t.api.VerifyCredentials())"
   ]
  },
  {
   "cell_type": "code",
   "execution_count": null,
   "metadata": {},
   "outputs": [],
   "source": [
    "t.t = t.api.GetUserTimeline(screen_name=\"alexonsoftware\", \n",
    "                        count=10, \n",
    "                        include_rts=False,\n",
    "                        exclude_replies=True)"
   ]
  },
  {
   "cell_type": "code",
   "execution_count": null,
   "metadata": {},
   "outputs": [],
   "source": [
    "since_id = t.t[0].id\n",
    "since_id -= 1"
   ]
  },
  {
   "cell_type": "markdown",
   "metadata": {},
   "source": [
    "Get new tweets:"
   ]
  },
  {
   "cell_type": "code",
   "execution_count": null,
   "metadata": {},
   "outputs": [],
   "source": [
    "t.t = t.api.GetUserTimeline(screen_name=\"alexonsoftware\", \n",
    "                        count=10, \n",
    "                        include_rts=False,\n",
    "                        exclude_replies=True,\n",
    "                        since_id=since_id)\n",
    "t.t"
   ]
  },
  {
   "cell_type": "markdown",
   "metadata": {},
   "source": [
    "## Run the loop"
   ]
  },
  {
   "cell_type": "code",
   "execution_count": null,
   "metadata": {},
   "outputs": [],
   "source": [
    "import io, urllib.request, time\n",
    "\n",
    "msg = Object()\n",
    "msg.running = True\n",
    "\n",
    "while msg.running:\n",
    "    msg.t = t.api.GetUserTimeline(screen_name=\"alexonsoftware\", \n",
    "                        count=10, \n",
    "                        include_rts=False,\n",
    "                        exclude_replies=True,\n",
    "                        since_id=since_id)\n",
    "    if len(msg.t) > 0:\n",
    "        for msg.tweet in msg.t:\n",
    "            if 'media' in msg.tweet.AsDict():\n",
    "                msg.media_list = msg.tweet.AsDict()['media']\n",
    "                for msg.pic in msg.media_list:\n",
    "                    msg.img = PIL.Image.open(\n",
    "                        io.BytesIO(\n",
    "                            urllib.request.urlopen(\n",
    "                                msg.pic['media_url']).read())).convert('RGB')\n",
    "                    msg.img_t = t.transforms(msg.img).unsqueeze(0)\n",
    "                    t.redis.tensorset('image', msg.img_t.numpy())\n",
    "                    t.redis.modelrun('resnet', 'image', 'pred')\n",
    "                    \n",
    "                    msg.pred = t.redis.tensorget('pred')[0]\n",
    "                    \n",
    "                    msg.pred = softmax(msg.pred)\n",
    "\n",
    "                    msg.ind = get_top_5(msg.pred)\n",
    "                    \n",
    "                    result = ''\n",
    "                    for msg.p in msg.ind:\n",
    "                        result += f\"{t.labels[msg.p]} : {msg.pred[msg.p]}\\n\"\n",
    "                    print(result)\n",
    "                    t.api.PostUpdate(\n",
    "                        status=result,\n",
    "                        in_reply_to_status_id=msg.tweet.id\n",
    "                    )\n",
    "            since_id = max(since_id, msg.tweet.id)\n",
    "    time.sleep(1)\n",
    "    msg.running = True"
   ]
  },
  {
   "cell_type": "code",
   "execution_count": null,
   "metadata": {},
   "outputs": [],
   "source": []
  }
 ],
 "metadata": {
  "kernelspec": {
   "display_name": "Python 3",
   "language": "python",
   "name": "python3"
  },
  "language_info": {
   "codemirror_mode": {
    "name": "ipython",
    "version": 3
   },
   "file_extension": ".py",
   "mimetype": "text/x-python",
   "name": "python",
   "nbconvert_exporter": "python",
   "pygments_lexer": "ipython3",
   "version": "3.6.9"
  },
  "varInspector": {
   "cols": {
    "lenName": 16,
    "lenType": 16,
    "lenVar": 40
   },
   "kernels_config": {
    "python": {
     "delete_cmd_postfix": "",
     "delete_cmd_prefix": "del ",
     "library": "var_list.py",
     "varRefreshCmd": "print(var_dic_list())"
    },
    "r": {
     "delete_cmd_postfix": ") ",
     "delete_cmd_prefix": "rm(",
     "library": "var_list.r",
     "varRefreshCmd": "cat(var_dic_list()) "
    }
   },
   "types_to_exclude": [
    "module",
    "function",
    "builtin_function_or_method",
    "instance",
    "_Feature"
   ],
   "window_display": false
  }
 },
 "nbformat": 4,
 "nbformat_minor": 2
}
