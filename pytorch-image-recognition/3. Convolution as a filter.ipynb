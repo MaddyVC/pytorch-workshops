{
 "cells": [
  {
   "cell_type": "code",
   "execution_count": 8,
   "metadata": {},
   "outputs": [],
   "source": [
    "%matplotlib inline\n",
    "import numpy as np\n",
    "import matplotlib.pyplot as plt\n",
    "\n",
    "class Object(object): pass"
   ]
  },
  {
   "cell_type": "markdown",
   "metadata": {},
   "source": [
    "Create an object where we store all our variables (to avoid) polluting global namespace."
   ]
  },
  {
   "cell_type": "code",
   "execution_count": 17,
   "metadata": {},
   "outputs": [],
   "source": [
    "conv = Object()"
   ]
  },
  {
   "cell_type": "code",
   "execution_count": 31,
   "metadata": {},
   "outputs": [
    {
     "data": {
      "text/plain": [
       "<matplotlib.image.AxesImage at 0x11d54c400>"
      ]
     },
     "execution_count": 31,
     "metadata": {},
     "output_type": "execute_result"
    },
    {
     "data": {
      "image/png": "[encoded data removed]",
      "text/plain": [
       "<Figure size 432x288 with 2 Axes>"
      ]
     },
     "metadata": {},
     "output_type": "display_data"
    }
   ],
   "source": [
    "conv.square_center = np.zeros((14, 14))\n",
    "for r in range(5, 9):\n",
    "    conv.square_center[r, 5:9] = 255\n",
    "conv.black = np.zeros((14, 14))\n",
    "\n",
    "plt.subplot(2, 2, 1)\n",
    "plt.imshow(conv.square_center, cmap=\"gray\")\n",
    "plt.subplot(2, 2, 2)\n",
    "plt.imshow(conv.black, cmap=\"gray\")"
   ]
  },
  {
   "cell_type": "markdown",
   "metadata": {},
   "source": [
    "Write code to detect if there's a white swa"
   ]
  },
  {
   "cell_type": "code",
   "execution_count": 32,
   "metadata": {},
   "outputs": [],
   "source": [
    "def detect_white(img):\n",
    "    h = img.shape[0]\n",
    "    w = img.shape[1]\n",
    "    return 1 if img[h//2, w//2] > 127 else 0"
   ]
  },
  {
   "cell_type": "code",
   "execution_count": 33,
   "metadata": {},
   "outputs": [
    {
     "data": {
      "text/plain": [
       "0"
      ]
     },
     "execution_count": 33,
     "metadata": {},
     "output_type": "execute_result"
    }
   ],
   "source": [
    "detect_white(conv.black)"
   ]
  },
  {
   "cell_type": "code",
   "execution_count": 34,
   "metadata": {},
   "outputs": [
    {
     "data": {
      "text/plain": [
       "1"
      ]
     },
     "execution_count": 34,
     "metadata": {},
     "output_type": "execute_result"
    }
   ],
   "source": [
    "detect_white(conv.square_center)"
   ]
  },
  {
   "cell_type": "code",
   "execution_count": 61,
   "metadata": {},
   "outputs": [
    {
     "data": {
      "text/plain": [
       "array([[  0.,   0.,   0.,   0.,   0.,   0., 255.,   0.,   0.,   0.,   0.,\n",
       "          0.,   0.,   0.],\n",
       "       [  0.,   0.,   0.,   0.,   0.,   0., 255.,   0.,   0.,   0.,   0.,\n",
       "          0.,   0.,   0.],\n",
       "       [  0.,   0.,   0.,   0.,   0.,   0., 255.,   0.,   0.,   0.,   0.,\n",
       "          0.,   0.,   0.],\n",
       "       [  0.,   0.,   0.,   0.,   0.,   0., 255.,   0.,   0.,   0.,   0.,\n",
       "          0.,   0.,   0.],\n",
       "       [  0.,   0.,   0.,   0.,   0.,   0., 255.,   0.,   0.,   0.,   0.,\n",
       "          0.,   0.,   0.],\n",
       "       [  0.,   0.,   0.,   0.,   0.,   0., 255.,   0.,   0.,   0.,   0.,\n",
       "          0.,   0.,   0.],\n",
       "       [  0.,   0.,   0.,   0.,   0.,   0., 255.,   0.,   0.,   0.,   0.,\n",
       "          0.,   0.,   0.],\n",
       "       [  0.,   0.,   0.,   0.,   0.,   0., 255.,   0.,   0.,   0.,   0.,\n",
       "          0.,   0.,   0.],\n",
       "       [  0.,   0.,   0.,   0.,   0.,   0., 255.,   0.,   0.,   0.,   0.,\n",
       "          0.,   0.,   0.],\n",
       "       [  0.,   0.,   0.,   0.,   0.,   0., 255.,   0.,   0.,   0.,   0.,\n",
       "          0.,   0.,   0.],\n",
       "       [  0.,   0.,   0.,   0.,   0.,   0., 255.,   0.,   0.,   0.,   0.,\n",
       "          0.,   0.,   0.],\n",
       "       [  0.,   0.,   0.,   0.,   0.,   0., 255.,   0.,   0.,   0.,   0.,\n",
       "          0.,   0.,   0.],\n",
       "       [  0.,   0.,   0.,   0.,   0.,   0., 255.,   0.,   0.,   0.,   0.,\n",
       "          0.,   0.,   0.],\n",
       "       [  0.,   0.,   0.,   0.,   0.,   0., 255.,   0.,   0.,   0.,   0.,\n",
       "          0.,   0.,   0.]])"
      ]
     },
     "execution_count": 61,
     "metadata": {},
     "output_type": "execute_result"
    }
   ],
   "source": [
    "conv.vert_line = np.zeros((14, 14))\n",
    "conv.vert_line[:, 6] = 255\n",
    "conv.vert_line"
   ]
  },
  {
   "cell_type": "code",
   "execution_count": 62,
   "metadata": {},
   "outputs": [
    {
     "data": {
      "text/plain": [
       "<matplotlib.image.AxesImage at 0x11d9ab0b8>"
      ]
     },
     "execution_count": 62,
     "metadata": {},
     "output_type": "execute_result"
    },
    {
     "data": {
      "image/png": "[encoded data removed]",
      "text/plain": [
       "<Figure size 432x288 with 1 Axes>"
      ]
     },
     "metadata": {},
     "output_type": "display_data"
    }
   ],
   "source": [
    "plt.imshow(conv.vert_line, cmap=\"gray\")"
   ]
  },
  {
   "cell_type": "code",
   "execution_count": 63,
   "metadata": {},
   "outputs": [
    {
     "data": {
      "text/plain": [
       "<matplotlib.image.AxesImage at 0x11dabbd30>"
      ]
     },
     "execution_count": 63,
     "metadata": {},
     "output_type": "execute_result"
    },
    {
     "data": {
      "image/png": "[encoded data removed]",
      "text/plain": [
       "<Figure size 432x288 with 1 Axes>"
      ]
     },
     "metadata": {},
     "output_type": "display_data"
    }
   ],
   "source": [
    "conv.horiz_line = np.zeros((14, 14))\n",
    "conv.horiz_line[6,:] = 255\n",
    "plt.imshow(conv.horiz_line, cmap=\"gray\")"
   ]
  },
  {
   "cell_type": "markdown",
   "metadata": {},
   "source": [
    "## Filters"
   ]
  },
  {
   "cell_type": "code",
   "execution_count": 69,
   "metadata": {},
   "outputs": [
    {
     "data": {
      "text/plain": [
       "array([[-1., -1.,  1., -1., -1.],\n",
       "       [-1., -1.,  1., -1., -1.],\n",
       "       [-1., -1.,  1., -1., -1.],\n",
       "       [-1., -1.,  1., -1., -1.],\n",
       "       [-1., -1.,  1., -1., -1.]])"
      ]
     },
     "execution_count": 69,
     "metadata": {},
     "output_type": "execute_result"
    }
   ],
   "source": [
    "conv.vert_filter = np.zeros((5, 5))\n",
    "conv.vert_filter[:,:] = -1\n",
    "conv.vert_filter[:, 2] = 1.0\n",
    "conv.vert_filter"
   ]
  },
  {
   "cell_type": "markdown",
   "metadata": {},
   "source": [
    "## Apply filter"
   ]
  },
  {
   "cell_type": "code",
   "execution_count": 87,
   "metadata": {},
   "outputs": [],
   "source": [
    "def apply_filter(img, flt):\n",
    "    end = img.shape[0] - flt.shape[0] + 1\n",
    "    ret = np.zeros((img.shape[0]-flt.shape[0] + 1, img.shape[1]-flt.shape[1] + 1))\n",
    "    for y in range(0, end):\n",
    "        for x in range(0, end):\n",
    "            # Apply filter\n",
    "            result = 0\n",
    "            for y1 in range(flt.shape[0]):\n",
    "                for x1 in range(flt.shape[1]):\n",
    "                    result += img[y + y1, x + x1] * flt[y1, x1]\n",
    "            ret[y, x] = result / (flt.shape[0] * flt.shape[1])\n",
    "    return ret"
   ]
  },
  {
   "cell_type": "code",
   "execution_count": 88,
   "metadata": {},
   "outputs": [
    {
     "data": {
      "text/plain": [
       "array([[  0.,   0., -51., -51.,  51., -51., -51.,   0.,   0.,   0.],\n",
       "       [  0.,   0., -51., -51.,  51., -51., -51.,   0.,   0.,   0.],\n",
       "       [  0.,   0., -51., -51.,  51., -51., -51.,   0.,   0.,   0.],\n",
       "       [  0.,   0., -51., -51.,  51., -51., -51.,   0.,   0.,   0.],\n",
       "       [  0.,   0., -51., -51.,  51., -51., -51.,   0.,   0.,   0.],\n",
       "       [  0.,   0., -51., -51.,  51., -51., -51.,   0.,   0.,   0.],\n",
       "       [  0.,   0., -51., -51.,  51., -51., -51.,   0.,   0.,   0.],\n",
       "       [  0.,   0., -51., -51.,  51., -51., -51.,   0.,   0.,   0.],\n",
       "       [  0.,   0., -51., -51.,  51., -51., -51.,   0.,   0.,   0.],\n",
       "       [  0.,   0., -51., -51.,  51., -51., -51.,   0.,   0.,   0.]])"
      ]
     },
     "execution_count": 88,
     "metadata": {},
     "output_type": "execute_result"
    }
   ],
   "source": [
    "apply_filter(conv.vert_line, conv.vert_filter)"
   ]
  },
  {
   "cell_type": "code",
   "execution_count": 89,
   "metadata": {},
   "outputs": [
    {
     "data": {
      "text/plain": [
       "<matplotlib.image.AxesImage at 0x11e2301d0>"
      ]
     },
     "execution_count": 89,
     "metadata": {},
     "output_type": "execute_result"
    },
    {
     "data": {
      "image/png": "[encoded data removed]",
      "text/plain": [
       "<Figure size 432x288 with 1 Axes>"
      ]
     },
     "metadata": {},
     "output_type": "display_data"
    }
   ],
   "source": [
    "plt.imshow(apply_filter(conv.vert_line, conv.vert_filter), cmap=\"gray\", vmin=-100, vmax=51)"
   ]
  },
  {
   "cell_type": "code",
   "execution_count": 90,
   "metadata": {},
   "outputs": [
    {
     "data": {
      "text/plain": [
       "array([[  0. ,   0. ,   0. ,   0. ,   0. ,   0. ,   0. ,   0. ,   0. ,\n",
       "          0. ],\n",
       "       [  0. ,   0. ,   0. ,   0. ,   0. ,   0. ,   0. ,   0. ,   0. ,\n",
       "          0. ],\n",
       "       [-30.6, -30.6, -30.6, -30.6, -30.6, -30.6, -30.6, -30.6, -30.6,\n",
       "        -30.6],\n",
       "       [-30.6, -30.6, -30.6, -30.6, -30.6, -30.6, -30.6, -30.6, -30.6,\n",
       "        -30.6],\n",
       "       [-30.6, -30.6, -30.6, -30.6, -30.6, -30.6, -30.6, -30.6, -30.6,\n",
       "        -30.6],\n",
       "       [-30.6, -30.6, -30.6, -30.6, -30.6, -30.6, -30.6, -30.6, -30.6,\n",
       "        -30.6],\n",
       "       [-30.6, -30.6, -30.6, -30.6, -30.6, -30.6, -30.6, -30.6, -30.6,\n",
       "        -30.6],\n",
       "       [  0. ,   0. ,   0. ,   0. ,   0. ,   0. ,   0. ,   0. ,   0. ,\n",
       "          0. ],\n",
       "       [  0. ,   0. ,   0. ,   0. ,   0. ,   0. ,   0. ,   0. ,   0. ,\n",
       "          0. ],\n",
       "       [  0. ,   0. ,   0. ,   0. ,   0. ,   0. ,   0. ,   0. ,   0. ,\n",
       "          0. ]])"
      ]
     },
     "execution_count": 90,
     "metadata": {},
     "output_type": "execute_result"
    }
   ],
   "source": [
    "apply_filter(conv.horiz_line, conv.vert_filter)"
   ]
  },
  {
   "cell_type": "code",
   "execution_count": 91,
   "metadata": {},
   "outputs": [
    {
     "data": {
      "text/plain": [
       "<matplotlib.image.AxesImage at 0x11e277438>"
      ]
     },
     "execution_count": 91,
     "metadata": {},
     "output_type": "execute_result"
    },
    {
     "data": {
      "image/png": "[encoded data removed]",
      "text/plain": [
       "<Figure size 432x288 with 1 Axes>"
      ]
     },
     "metadata": {},
     "output_type": "display_data"
    }
   ],
   "source": [
    "plt.imshow(apply_filter(conv.horiz_line, conv.vert_filter), cmap=\"gray\", vmin=-100, vmax=51)"
   ]
  },
  {
   "cell_type": "code",
   "execution_count": 92,
   "metadata": {},
   "outputs": [
    {
     "data": {
      "text/plain": [
       "array([[-1., -1., -1., -1., -1.],\n",
       "       [-1., -1., -1., -1., -1.],\n",
       "       [ 1.,  1.,  1.,  1.,  1.],\n",
       "       [-1., -1., -1., -1., -1.],\n",
       "       [-1., -1., -1., -1., -1.]])"
      ]
     },
     "execution_count": 92,
     "metadata": {},
     "output_type": "execute_result"
    }
   ],
   "source": [
    "conv.horiz_filter = np.zeros((5, 5))\n",
    "conv.horiz_filter[:,:] = -1\n",
    "conv.horiz_filter[2,:] = 1\n",
    "conv.horiz_filter"
   ]
  },
  {
   "cell_type": "code",
   "execution_count": 81,
   "metadata": {},
   "outputs": [
    {
     "data": {
      "text/plain": [
       "array([[  0. ,   0. , -30.6, -30.6, -30.6, -30.6, -30.6,   0. ,   0. ,\n",
       "          0. ],\n",
       "       [  0. ,   0. , -30.6, -30.6, -30.6, -30.6, -30.6,   0. ,   0. ,\n",
       "          0. ],\n",
       "       [  0. ,   0. , -30.6, -30.6, -30.6, -30.6, -30.6,   0. ,   0. ,\n",
       "          0. ],\n",
       "       [  0. ,   0. , -30.6, -30.6, -30.6, -30.6, -30.6,   0. ,   0. ,\n",
       "          0. ],\n",
       "       [  0. ,   0. , -30.6, -30.6, -30.6, -30.6, -30.6,   0. ,   0. ,\n",
       "          0. ],\n",
       "       [  0. ,   0. , -30.6, -30.6, -30.6, -30.6, -30.6,   0. ,   0. ,\n",
       "          0. ],\n",
       "       [  0. ,   0. , -30.6, -30.6, -30.6, -30.6, -30.6,   0. ,   0. ,\n",
       "          0. ],\n",
       "       [  0. ,   0. , -30.6, -30.6, -30.6, -30.6, -30.6,   0. ,   0. ,\n",
       "          0. ],\n",
       "       [  0. ,   0. , -30.6, -30.6, -30.6, -30.6, -30.6,   0. ,   0. ,\n",
       "          0. ],\n",
       "       [  0. ,   0. ,   0. ,   0. ,   0. ,   0. ,   0. ,   0. ,   0. ,\n",
       "          0. ]])"
      ]
     },
     "execution_count": 81,
     "metadata": {},
     "output_type": "execute_result"
    }
   ],
   "source": [
    "apply_filter(conv.vert_line, conv.horiz_filter)"
   ]
  },
  {
   "cell_type": "code",
   "execution_count": 82,
   "metadata": {},
   "outputs": [
    {
     "data": {
      "text/plain": [
       "array([[  0.,   0.,   0.,   0.,   0.,   0.,   0.,   0.,   0.,   0.],\n",
       "       [  0.,   0.,   0.,   0.,   0.,   0.,   0.,   0.,   0.,   0.],\n",
       "       [-51., -51., -51., -51., -51., -51., -51., -51., -51.,   0.],\n",
       "       [-51., -51., -51., -51., -51., -51., -51., -51., -51.,   0.],\n",
       "       [ 51.,  51.,  51.,  51.,  51.,  51.,  51.,  51.,  51.,   0.],\n",
       "       [-51., -51., -51., -51., -51., -51., -51., -51., -51.,   0.],\n",
       "       [-51., -51., -51., -51., -51., -51., -51., -51., -51.,   0.],\n",
       "       [  0.,   0.,   0.,   0.,   0.,   0.,   0.,   0.,   0.,   0.],\n",
       "       [  0.,   0.,   0.,   0.,   0.,   0.,   0.,   0.,   0.,   0.],\n",
       "       [  0.,   0.,   0.,   0.,   0.,   0.,   0.,   0.,   0.,   0.]])"
      ]
     },
     "execution_count": 82,
     "metadata": {},
     "output_type": "execute_result"
    }
   ],
   "source": [
    "apply_filter(conv.horiz_line, conv.horiz_filter)"
   ]
  },
  {
   "cell_type": "code",
   "execution_count": 93,
   "metadata": {},
   "outputs": [],
   "source": [
    "def detect_conv(img, flt):\n",
    "    ret = apply_filter(img, flt)\n",
    "    return 1 if ret.max() > 0 else 0"
   ]
  },
  {
   "cell_type": "code",
   "execution_count": 94,
   "metadata": {},
   "outputs": [
    {
     "data": {
      "text/plain": [
       "1"
      ]
     },
     "execution_count": 94,
     "metadata": {},
     "output_type": "execute_result"
    }
   ],
   "source": [
    "detect_conv(conv.horiz_line, conv.horiz_filter)"
   ]
  },
  {
   "cell_type": "code",
   "execution_count": 95,
   "metadata": {},
   "outputs": [
    {
     "data": {
      "text/plain": [
       "1"
      ]
     },
     "execution_count": 95,
     "metadata": {},
     "output_type": "execute_result"
    }
   ],
   "source": [
    "detect_conv(conv.vert_line, conv.vert_filter)"
   ]
  },
  {
   "cell_type": "code",
   "execution_count": 96,
   "metadata": {},
   "outputs": [
    {
     "data": {
      "text/plain": [
       "0"
      ]
     },
     "execution_count": 96,
     "metadata": {},
     "output_type": "execute_result"
    }
   ],
   "source": [
    "detect_conv(conv.vert_line, conv.horiz_filter)"
   ]
  },
  {
   "cell_type": "markdown",
   "metadata": {},
   "source": [
    "## Non-linearity"
   ]
  },
  {
   "cell_type": "code",
   "execution_count": null,
   "metadata": {},
   "outputs": [],
   "source": []
  }
 ],
 "metadata": {
  "kernelspec": {
   "display_name": "Python 3",
   "language": "python",
   "name": "python3"
  },
  "language_info": {
   "codemirror_mode": {
    "name": "ipython",
    "version": 3
   },
   "file_extension": ".py",
   "mimetype": "text/x-python",
   "name": "python",
   "nbconvert_exporter": "python",
   "pygments_lexer": "ipython3",
   "version": "3.6.9"
  },
  "varInspector": {
   "cols": {
    "lenName": 16,
    "lenType": 16,
    "lenVar": 40
   },
   "kernels_config": {
    "python": {
     "delete_cmd_postfix": "",
     "delete_cmd_prefix": "del ",
     "library": "var_list.py",
     "varRefreshCmd": "print(var_dic_list())"
    },
    "r": {
     "delete_cmd_postfix": ") ",
     "delete_cmd_prefix": "rm(",
     "library": "var_list.r",
     "varRefreshCmd": "cat(var_dic_list()) "
    }
   },
   "types_to_exclude": [
    "module",
    "function",
    "builtin_function_or_method",
    "instance",
    "_Feature"
   ],
   "window_display": false
  }
 },
 "nbformat": 4,
 "nbformat_minor": 2
}
