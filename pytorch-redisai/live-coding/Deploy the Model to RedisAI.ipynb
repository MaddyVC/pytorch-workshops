{
 "cells": [
  {
   "cell_type": "code",
   "execution_count": null,
   "metadata": {},
   "outputs": [],
   "source": [
    "import redisai\n",
    "import ml2rt\n",
    "from PIL import Image\n",
    "from torchvision import transforms\n",
    "import numpy as np\n",
    "\n",
    "class Object(object): pass"
   ]
  },
  {
   "cell_type": "code",
   "execution_count": null,
   "metadata": {},
   "outputs": [],
   "source": [
    "tr = Object()\n",
    "tr.redis = redisai.Client()"
   ]
  },
  {
   "cell_type": "code",
   "execution_count": null,
   "metadata": {},
   "outputs": [],
   "source": [
    "# docker run -p 6379:6379 -it --rm redisai/redisai"
   ]
  },
  {
   "cell_type": "code",
   "execution_count": null,
   "metadata": {},
   "outputs": [],
   "source": [
    "tr.loaded_model = ml2rt.load_model('plant.pt')"
   ]
  },
  {
   "cell_type": "code",
   "execution_count": null,
   "metadata": {},
   "outputs": [],
   "source": [
    "tr.redis.modelset(\n",
    "    \"plant\", \n",
    "    redisai.Backend.torch,\n",
    "    redisai.Device.cpu,\n",
    "    tr.loaded_model)"
   ]
  },
  {
   "cell_type": "code",
   "execution_count": null,
   "metadata": {},
   "outputs": [],
   "source": [
    "!ls ../../input/plant-pathology-2020-fgvc7/test/rust"
   ]
  },
  {
   "cell_type": "code",
   "execution_count": null,
   "metadata": {},
   "outputs": [],
   "source": [
    "input_path = \"../../input/plant-pathology-2020-fgvc7\"\n",
    "tr.img = Image \\\n",
    "    .open(input_path + '/test/rust/Train_109.jpg') \\\n",
    "    .convert(\"RGB\")\n",
    "tr.img"
   ]
  },
  {
   "cell_type": "code",
   "execution_count": null,
   "metadata": {},
   "outputs": [],
   "source": [
    "tr.transform = transforms.Compose([\n",
    "    transforms.Resize((224, 224)),\n",
    "    transforms.ToTensor(),\n",
    "    transforms.Normalize(mean=[0.485, 0.456, 0.406], \n",
    "                         std=[0.229, .224, .225])\n",
    "])"
   ]
  },
  {
   "cell_type": "code",
   "execution_count": null,
   "metadata": {},
   "outputs": [],
   "source": [
    "tr.img_t = tr.transform(tr.img)"
   ]
  },
  {
   "cell_type": "code",
   "execution_count": null,
   "metadata": {},
   "outputs": [],
   "source": [
    "tr.img_t.shape"
   ]
  },
  {
   "cell_type": "code",
   "execution_count": null,
   "metadata": {},
   "outputs": [],
   "source": [
    "tr.img_t = tr.img_t.numpy()"
   ]
  },
  {
   "cell_type": "code",
   "execution_count": null,
   "metadata": {},
   "outputs": [],
   "source": [
    "tr.img_t = np.expand_dims(tr.img_t, axis=0)\n",
    "tr.img_t.shape"
   ]
  },
  {
   "cell_type": "code",
   "execution_count": null,
   "metadata": {},
   "outputs": [],
   "source": [
    "tr.redis.tensorset('input', tr.img_t)"
   ]
  },
  {
   "cell_type": "code",
   "execution_count": null,
   "metadata": {},
   "outputs": [],
   "source": [
    "tr.redis.modelrun('plant', 'input', 'pred')"
   ]
  },
  {
   "cell_type": "code",
   "execution_count": null,
   "metadata": {},
   "outputs": [],
   "source": [
    "pred = tr.redis.tensorget('pred')"
   ]
  },
  {
   "cell_type": "code",
   "execution_count": null,
   "metadata": {},
   "outputs": [],
   "source": [
    "pred"
   ]
  },
  {
   "cell_type": "code",
   "execution_count": null,
   "metadata": {},
   "outputs": [],
   "source": [
    "def softmax(v):\n",
    "    return np.exp(v) / np.sum(np.exp(v))"
   ]
  },
  {
   "cell_type": "code",
   "execution_count": null,
   "metadata": {},
   "outputs": [],
   "source": [
    "softmax(pred)"
   ]
  },
  {
   "cell_type": "markdown",
   "metadata": {},
   "source": [
    "Our labels are:\n",
    "```\n",
    "['healthy', 'multiple_diseases', 'rust', 'scab']\n",
    "```"
   ]
  },
  {
   "cell_type": "markdown",
   "metadata": {},
   "source": [
    "### Twitter Loop"
   ]
  },
  {
   "cell_type": "code",
   "execution_count": null,
   "metadata": {},
   "outputs": [],
   "source": [
    "import io, urllib.request, time, twitter, os, PIL\n",
    "\n",
    "def twitter_loop():\n",
    "    msg = Object()\n",
    "    msg.running = True\n",
    "    \n",
    "    api = twitter.Api(\n",
    "        consumer_key=os.environ['TWITTER_CONSUMER_KEY'],\n",
    "        consumer_secret=os.environ['TWITTER_CONSUMER_SECRET'],\n",
    "        access_token_key=os.environ['TWITTER_TOKEN_KEY'],\n",
    "        access_token_secret=os.environ['TWITTER_TOKEN_SECRET'])   \n",
    "    \n",
    "    labels = ['healthy', 'multiple_diseases', 'rust', 'scab']\n",
    "    \n",
    "    timeline = api.GetUserTimeline(screen_name=\"alexonsoftware\", \n",
    "                        count=10, \n",
    "                        include_rts=False,\n",
    "                        exclude_replies=True)    \n",
    "    \n",
    "    since_id = since_id = timeline[0].id \\\n",
    "        if len(timeline) > 0 \\\n",
    "        else 0\n",
    "\n",
    "    while msg.running:\n",
    "        msg.t = api.GetUserTimeline(screen_name=\"alexonsoftware\", \n",
    "                            count=10, \n",
    "                            include_rts=False,\n",
    "                            exclude_replies=True,\n",
    "                            since_id=since_id)\n",
    "        if len(msg.t) > 0:\n",
    "            for msg.tweet in msg.t:\n",
    "                if 'media' in msg.tweet.AsDict():\n",
    "                    msg.media_list = msg.tweet.AsDict()['media']\n",
    "                    for msg.pic in msg.media_list:\n",
    "                        msg.img = PIL.Image.open(\n",
    "                            io.BytesIO(\n",
    "                                urllib.request.urlopen(\n",
    "                                    msg.pic['media_url']).read())).convert('RGB')\n",
    "                        msg.img_t = tr.transform(msg.img).unsqueeze(0)\n",
    "                        \n",
    "                        tr.redis.tensorset('image', msg.img_t.numpy())\n",
    "                        \n",
    "                        tr.redis.modelrun('plant', 'image', 'pred')\n",
    "\n",
    "                        msg.pred = tr.redis.tensorget('pred')[0]\n",
    "                        \n",
    "                        msg.pred = softmax(msg.pred)\n",
    "                        print(msg.pred)\n",
    "                        msg.ind = range(len(labels))\n",
    "                        print(msg.ind)\n",
    "                        result = ''\n",
    "                        for msg.p in msg.ind:\n",
    "                            result += f\"{labels[msg.p]} : {msg.pred[msg.p]}\\n\"\n",
    "                        print(result)\n",
    "                        api.PostUpdate(\n",
    "                            status=result,\n",
    "                            in_reply_to_status_id=msg.tweet.id\n",
    "                        )\n",
    "                since_id = max(since_id, msg.tweet.id)\n",
    "        time.sleep(1)\n",
    "        msg.running = True"
   ]
  },
  {
   "cell_type": "code",
   "execution_count": null,
   "metadata": {},
   "outputs": [],
   "source": [
    "twitter_loop()"
   ]
  },
  {
   "cell_type": "code",
   "execution_count": null,
   "metadata": {},
   "outputs": [],
   "source": []
  }
 ],
 "metadata": {
  "kernelspec": {
   "display_name": "Python 3",
   "language": "python",
   "name": "python3"
  },
  "language_info": {
   "codemirror_mode": {
    "name": "ipython",
    "version": 3
   },
   "file_extension": ".py",
   "mimetype": "text/x-python",
   "name": "python",
   "nbconvert_exporter": "python",
   "pygments_lexer": "ipython3",
   "version": "3.6.9"
  },
  "varInspector": {
   "cols": {
    "lenName": 16,
    "lenType": 16,
    "lenVar": 40
   },
   "kernels_config": {
    "python": {
     "delete_cmd_postfix": "",
     "delete_cmd_prefix": "del ",
     "library": "var_list.py",
     "varRefreshCmd": "print(var_dic_list())"
    },
    "r": {
     "delete_cmd_postfix": ") ",
     "delete_cmd_prefix": "rm(",
     "library": "var_list.r",
     "varRefreshCmd": "cat(var_dic_list()) "
    }
   },
   "types_to_exclude": [
    "module",
    "function",
    "builtin_function_or_method",
    "instance",
    "_Feature"
   ],
   "window_display": false
  }
 },
 "nbformat": 4,
 "nbformat_minor": 4
}
